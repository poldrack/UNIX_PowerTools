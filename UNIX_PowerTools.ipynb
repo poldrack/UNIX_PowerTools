{
 "cells": [
  {
   "cell_type": "markdown",
   "metadata": {},
   "source": [
    "### UNIX Power Tools\n",
    "\n",
    "This presentation is meant to introduce some of the UNIX tools that I find most useful.\n",
    "\n",
    "Setup for mac:\n",
    "\n",
    "```\n",
    "brew install tree\n",
    "```\n"
   ]
  },
  {
   "cell_type": "markdown",
   "metadata": {},
   "source": [
    "#### The UNIX shell\n",
    "\n",
    "There are many different UNIX shells, but most people today use the `bash` shell. "
   ]
  },
  {
   "cell_type": "code",
   "execution_count": 7,
   "metadata": {
    "vscode": {
     "languageId": "shellscript"
    }
   },
   "outputs": [
    {
     "name": "stdout",
     "output_type": "stream",
     "text": [
      "/bin/bash\n"
     ]
    }
   ],
   "source": [
    "%%bash\n",
    "\n",
    "which bash"
   ]
  },
  {
   "cell_type": "markdown",
   "metadata": {},
   "source": [
    "More recent versions of MacOS use a related shell called zsh.  Mac users should consider installing [Oh My Zsh](https://ohmyz.sh/) which allows lots of customization."
   ]
  },
  {
   "cell_type": "code",
   "execution_count": 8,
   "metadata": {
    "vscode": {
     "languageId": "shellscript"
    }
   },
   "outputs": [
    {
     "name": "stdout",
     "output_type": "stream",
     "text": [
      "  PID TTY           TIME CMD\n",
      " 1065 ttys003    1:20.85 -zsh\n",
      " 1466 ttys003    0:00.00 -zsh\n",
      " 1469 ttys003    0:05.53 -zsh\n",
      " 1470 ttys003    0:00.00 -zsh\n",
      " 1493 ttys003    0:36.11 /Users/poldrack/.cache/gitstatus/gitstatusd-darwin-arm64 -G v1.5.4 -s -1 -u -1 -d -1 -c -1 -m -1 -v FATAL -t 32\n",
      "31785 ttys005    0:35.81 -zsh\n",
      "31846 ttys005    0:00.00 -zsh\n",
      "31847 ttys005    0:03.74 -zsh\n",
      "31850 ttys005    0:00.00 -zsh\n",
      "31855 ttys005    0:15.10 /Users/poldrack/.cache/gitstatus/gitstatusd-darwin-arm64 -G v1.5.4 -s -1 -u -1 -d -1 -c -1 -m -1 -v FATAL -t 32\n",
      "40649 ttys006    0:40.99 -zsh\n",
      "40658 ttys006    0:00.00 -zsh\n",
      "40696 ttys006    0:00.00 -zsh\n",
      "40697 ttys006    0:03.28 -zsh\n",
      "40699 ttys006    0:16.80 /Users/poldrack/.cache/gitstatus/gitstatusd-darwin-arm64 -G v1.5.4 -s -1 -u -1 -d -1 -c -1 -m -1 -v FATAL -t 32\n",
      "60962 ttys014    0:00.28 /bin/zsh -il\n",
      "60991 ttys014    0:00.00 /bin/zsh -il\n",
      "61436 ttys014    0:00.00 /bin/zsh -il\n",
      "61437 ttys014    0:00.01 /bin/zsh -il\n",
      "61439 ttys014    0:00.07 /Users/poldrack/.cache/gitstatus/gitstatusd-darwin-arm64 -G v1.5.4 -s -1 -u -1 -d -1 -c -1 -m -1 -v FATAL -t 32\n",
      "60968 ttys016    0:00.29 /bin/zsh -i\n",
      "60979 ttys016    0:00.00 /bin/zsh -i\n",
      "61431 ttys016    0:00.00 /bin/zsh -i\n",
      "61433 ttys016    0:00.02 /bin/zsh -i\n",
      "61434 ttys016    0:00.08 /Users/poldrack/.cache/gitstatus/gitstatusd-darwin-arm64 -G v1.5.4 -s -1 -u -1 -d -1 -c -1 -m -1 -v FATAL -t 32\n",
      "63943 ttys018    0:00.41 /bin/zsh -il\n",
      "64001 ttys018    0:00.00 /bin/zsh -il\n",
      "64393 ttys018    0:00.00 /bin/zsh -il\n",
      "64394 ttys018    0:00.02 /bin/zsh -il\n",
      "64396 ttys018    0:00.08 /Users/poldrack/.cache/gitstatus/gitstatusd-darwin-arm64 -G v1.5.4 -s -1 -u -1 -d -1 -c -1 -m -1 -v FATAL -t 32\n",
      "69356 ttys018    0:00.01 more /Users/poldrack/.aliases\n",
      "64499 ttys019    0:00.31 /bin/zsh -i\n",
      "64503 ttys019    0:00.00 /bin/zsh -i\n",
      "64656 ttys019    0:00.00 /bin/zsh -i\n",
      "64658 ttys019    0:00.02 /bin/zsh -i\n",
      "64659 ttys019    0:00.08 /Users/poldrack/.cache/gitstatus/gitstatusd-darwin-arm64 -G v1.5.4 -s -1 -u -1 -d -1 -c -1 -m -1 -v FATAL -t 32\n",
      "39560 ttys031    0:00.61 -zsh\n",
      "39623 ttys031    0:00.00 -zsh\n",
      "39624 ttys031    0:00.03 -zsh\n",
      "39627 ttys031    0:00.00 -zsh\n",
      "39632 ttys031    0:00.13 /Users/poldrack/.cache/gitstatus/gitstatusd-darwin-arm64 -G v1.5.4 -s -1 -u -1 -d -1 -c -1 -m -1 -v FATAL -t 32\n"
     ]
    }
   ],
   "source": [
    "%%bash\n",
    "\n",
    "ps"
   ]
  },
  {
   "cell_type": "markdown",
   "metadata": {},
   "source": [
    "#### Aliases\n",
    "\n",
    "If there are commands that you use regularly, you can create aliases to make them accessible via a shorter command.  For example, instead of:\n",
    "\n",
    "`git commit -m\"initial commit\"`\n",
    "\n",
    "you can create an alias to perform this command by just typing `gitia`.\n",
    "\n",
    "Most power users create a *dotfile* called `.aliases` that contain aliases for commonly used commands:"
   ]
  },
  {
   "cell_type": "code",
   "execution_count": 9,
   "metadata": {
    "vscode": {
     "languageId": "shellscript"
    }
   },
   "outputs": [
    {
     "name": "stdout",
     "output_type": "stream",
     "text": [
      "# setup aliases\n",
      "alias lslt='ls -l --sort old'\n",
      "alias cat='bat'\n",
      "alias ls='eza'\n",
      "alias ll='eza -alh -snew'\n",
      "alias tree='eza --tree'\n",
      "alias gitia='git commit -m\"initial add\"'\n",
      "alias fontbook=\"open -b com.apple.FontBook\"\n",
      "alias blackbox='ssh -p 1388 192.168.86.54'\n",
      "alias jupdell='ssh -p 2289 -L 5976:localhost:5976 10.0.0.180'\n",
      "alias mntlinux='sshfs -p 2289 10.0.0.180:/home/poldrack ~/linux'\n",
      "alias mntlinuxdata='sshfs -p 2289 10.0.0.180:/data ~/linuxdata'\n",
      "alias corral='sshfs data.tacc.utexas.edu:/corral-repl/utexas/poldrack ~/corral'\n",
      "alias oak='sshfs -o uid=`id -u poldrack` -o gid=`id -g poldrack` -o allow_other russpold@login.sherlock.stanford.edu:/oak/stanford/groups/russpold ~/oak'\n",
      "alias scratch='sshfs -o uid=`id -u poldrack` -o gid=`id -g poldrack` -o allow_other russpold@login.sherlock.stanford.edu:/scratch/users/russpold ~/scratch'\n",
      "alias dell='ssh -XY -p 2289 10.0.0.180'\n",
      "alias dellremote='ssh -XY -p 2289 73.241.144.150'\n",
      "alias delloffice='ssh -XY -p 2289 171.64.204.18'\n",
      "alias mongo='mongod --dbpath ~/.mongodb >! ~/.mongodb/mongo.log 2>&1 &'\n",
      "alias corn='ssh russpold@corn.stanford.edu'\n",
      "alias startmongo='mongod --config /usr/local/etc/mongod.conf'\n",
      "alias cardinal='ssh russpold@cardinal.stanford.edu'\n",
      "alias sherlock='ssh russpold@login.sherlock.stanford.edu'\n",
      "alias cnic='ssh russpold@cnic-poldrack.stanford.edu'\n",
      "alias stampede='ssh -XY stampede2.tacc.utexas.edu'\n",
      "alias corral='ssh -XY corral-login.tacc.utexas.edu'\n",
      "alias wrangler='ssh -XY wrangler.tacc.utexas.edu'\n",
      "alias ls6='ssh -XY ls6.tacc.utexas.edu'\n",
      "alias frontera='ssh -XY frontera.tacc.utexas.edu'\n",
      "alias mroe='more'\n",
      "alias h='history'\n",
      "alias j='jobs -l'\n",
      "alias which='type -a'\n",
      "alias ..='cd ..'\n",
      "alias path='echo -e ${PATH//:/\\\\n}'\n",
      "alias libpath='echo -e ${LD_LIBRARY_PATH//:/\\\\n}'\n",
      "alias ipython=\"ipython --matplotlib\"\n",
      "alias py3='source activate py3'\n",
      "\n"
     ]
    }
   ],
   "source": [
    "%%bash\n",
    "\n",
    "more ~/.aliases"
   ]
  },
  {
   "cell_type": "markdown",
   "metadata": {},
   "source": [
    "On its own this file won't do anything; it needs to be *sourced* so that the shell actually reads it in. This can be done in one of two ways:"
   ]
  },
  {
   "cell_type": "code",
   "execution_count": 10,
   "metadata": {
    "vscode": {
     "languageId": "shellscript"
    }
   },
   "outputs": [],
   "source": [
    "%%bash\n",
    "\n",
    "source ~/.aliases\n",
    "\n",
    ". ~/.aliases"
   ]
  },
  {
   "cell_type": "markdown",
   "metadata": {},
   "source": [
    "You can see that a command is an alias by using the `which` command (which I need to do in the real shell here for some reason):"
   ]
  },
  {
   "cell_type": "code",
   "execution_count": null,
   "metadata": {
    "vscode": {
     "languageId": "shellscript"
    }
   },
   "outputs": [],
   "source": [
    "%%bash\n",
    "\n",
    "which sherlock"
   ]
  },
  {
   "cell_type": "markdown",
   "metadata": {},
   "source": [
    "#### Startup files\n",
    "\n",
    "When you start a new shell, a set of commands is read in from an initialization file for that shell.  For bash this is `.bashrc` and for zsh it is `.zshrc`.  This contains commands to set up the shell, and you can include your own custom commands."
   ]
  },
  {
   "cell_type": "code",
   "execution_count": 15,
   "metadata": {
    "vscode": {
     "languageId": "shellscript"
    }
   },
   "outputs": [
    {
     "name": "stdout",
     "output_type": "stream",
     "text": [
      "# Enable Powerlevel10k instant prompt. Should stay close to the top of ~/.zshrc.\n",
      "# Initialization code that may require console input (password prompts, [y/n]\n",
      "# confirmations, etc.) must go above this block; everything else may go below.\n",
      "if [[ -r \"${XDG_CACHE_HOME:-$HOME/.cache}/p10k-instant-prompt-${(%):-%n}.zsh\" ]]; then\n",
      "  source \"${XDG_CACHE_HOME:-$HOME/.cache}/p10k-instant-prompt-${(%):-%n}.zsh\"\n",
      "fi\n",
      "\n",
      "# If you come from bash you might have to change your $PATH.\n",
      "# export PATH=$HOME/bin:/usr/local/bin:$PATH\n",
      "\n",
      "# Path to your oh-my-zsh installation.\n",
      "export ZSH=\"$HOME/.oh-my-zsh\"\n",
      "\n",
      "# Set name of the theme to load --- if set to \"random\", it will\n",
      "# load a random theme each time oh-my-zsh is loaded, in which case,\n",
      "# to know which specific one was loaded, run: echo $RANDOM_THEME\n",
      "# See https://github.com/ohmyzsh/ohmyzsh/wiki/Themes\n",
      "#ZSH_THEME=\"robbyrussell\"\n",
      "ZSH_THEME=\"powerlevel10k/powerlevel10k\"\n",
      "\n",
      "# Set list of themes to pick from when loading at random\n",
      "# Setting this variable when ZSH_THEME=random will cause zsh to load\n",
      "# a theme from this variable instead of looking in $ZSH/themes/\n",
      "# If set to an empty array, this variable will have no effect.\n",
      "# ZSH_THEME_RANDOM_CANDIDATES=( \"robbyrussell\" \"agnoster\" )\n",
      "\n",
      "# Uncomment the following line to use case-sensitive completion.\n",
      "# CASE_SENSITIVE=\"true\"\n",
      "\n",
      "# Uncomment the following line to use hyphen-insensitive completion.\n",
      "# Case-sensitive completion must be off. _ and - will be interchangeable.\n",
      "# HYPHEN_INSENSITIVE=\"true\"\n",
      "\n",
      "# Uncomment one of the following lines to change the auto-update behavior\n",
      "# zstyle ':omz:update' mode disabled  # disable automatic updates\n",
      "# zstyle ':omz:update' mode auto      # update automatically without asking\n",
      "# zstyle ':omz:update' mode reminder  # just remind me to update when it's time\n",
      "\n",
      "# Uncomment the following line to change how often to auto-update (in days).\n",
      "# zstyle ':omz:update' frequency 13\n",
      "\n",
      "# Uncomment the following line if pasting URLs and other text is messed up.\n",
      "# DISABLE_MAGIC_FUNCTIONS=\"true\"\n",
      "\n",
      "# Uncomment the following line to disable colors in ls.\n",
      "# DISABLE_LS_COLORS=\"true\"\n",
      "\n",
      "# Uncomment the following line to disable auto-setting terminal title.\n",
      "# DISABLE_AUTO_TITLE=\"true\"\n",
      "\n",
      "# Uncomment the following line to enable command auto-correction.\n",
      "# ENABLE_CORRECTION=\"true\"\n",
      "\n",
      "# Uncomment the following line to display red dots whilst waiting for completion.\n",
      "# You can also set it to another string to have that shown instead of the default red dots.\n",
      "# e.g. COMPLETION_WAITING_DOTS=\"%F{yellow}waiting...%f\"\n",
      "# Caution: this setting can cause issues with multiline prompts in zsh < 5.7.1 (see #5765)\n",
      "# COMPLETION_WAITING_DOTS=\"true\"\n",
      "\n",
      "# Uncomment the following line if you want to disable marking untracked files\n",
      "# under VCS as dirty. This makes repository status check for large repositories\n",
      "# much, much faster.\n",
      "# DISABLE_UNTRACKED_FILES_DIRTY=\"true\"\n",
      "\n",
      "# Uncomment the following line if you want to change the command execution time\n",
      "# stamp shown in the history command output.\n",
      "# You can set one of the optional three formats:\n",
      "# \"mm/dd/yyyy\"|\"dd.mm.yyyy\"|\"yyyy-mm-dd\"\n",
      "# or set a custom format using the strftime function format specifications,\n",
      "# see 'man strftime' for details.\n",
      "# HIST_STAMPS=\"mm/dd/yyyy\"\n",
      "\n",
      "# Would you like to use another custom folder than $ZSH/custom?\n",
      "# ZSH_CUSTOM=/path/to/new-custom-folder\n",
      "\n",
      "# Which plugins would you like to load?\n",
      "# Standard plugins can be found in $ZSH/plugins/\n",
      "# Custom plugins may be added to $ZSH_CUSTOM/plugins/\n",
      "# Example format: plugins=(rails git textmate ruby lighthouse)\n",
      "# Add wisely, as too many plugins slow down shell startup.\n",
      "plugins=(git 1password)\n",
      "\n",
      "source $ZSH/oh-my-zsh.sh\n",
      "\n",
      "# User configuration\n",
      "\n",
      "# export MANPATH=\"/usr/local/man:$MANPATH\"\n",
      "\n",
      "# You may need to manually set your language environment\n",
      "# export LANG=en_US.UTF-8\n",
      "\n",
      "# Preferred editor for local and remote sessions\n",
      "# if [[ -n $SSH_CONNECTION ]]; then\n",
      "#   export EDITOR='vim'\n",
      "# else\n",
      "#   export EDITOR='mvim'\n",
      "# fi\n",
      "\n",
      "# Compilation flags\n",
      "# export ARCHFLAGS=\"-arch x86_64\"\n",
      "\n",
      "# Set personal aliases, overriding those provided by oh-my-zsh libs,\n",
      "# plugins, and themes. Aliases can be placed here, though oh-my-zsh\n",
      "# users are encouraged to define aliases within the ZSH_CUSTOM folder.\n",
      "# For a full list of active aliases, run `alias`.\n",
      "#\n",
      "# Example aliases\n",
      "# alias zshconfig=\"mate ~/.zshrc\"\n",
      "# alias ohmyzsh=\"mate ~/.oh-my-zsh\"\n",
      "source $HOME/.aliases\n",
      "\n",
      "# >>> conda initialize >>>\n",
      "# !! Contents within this block are managed by 'conda init' !!\n",
      "# __conda_setup=\"$('/Users/poldrack/miniconda3/bin/conda' 'shell.zsh' 'hook' 2> /dev/null)\"\n",
      "# if [ $? -eq 0 ]; then\n",
      "#     eval \"$__conda_setup\"\n",
      "# else\n",
      "#     if [ -f \"/Users/poldrack/miniconda3/etc/profile.d/conda.sh\" ]; then\n",
      "#         . \"/Users/poldrack/miniconda3/etc/profile.d/conda.sh\"\n",
      "#     else\n",
      "#         export PATH=\"/Users/poldrack/miniconda3/bin:$PATH\"\n",
      "#     fi\n",
      "# fi\n",
      "# unset __conda_setup\n",
      "# <<< conda initialize <<<\n",
      "\n",
      "eval \"$(zoxide init zsh)\"\n",
      "\n",
      "# To customize prompt, run `p10k configure` or edit ~/.p10k.zsh.\n",
      "[[ ! -f ~/.p10k.zsh ]] || source ~/.p10k.zsh\n",
      "\n",
      "FSLDIR=/Users/poldrack/fsl\n",
      "#PATH=${PATH}:${FSLDIR}/share/fsl/bin\n",
      "#export FSLDIR PATH\n",
      "#. ${FSLDIR}/etc/fslconf/fsl.sh\n",
      "\n",
      "path+=('/Users/poldrack/bin/edirect')\n",
      "export PATH\n",
      "\n",
      "export DOCKER_USERNAME=poldrack\n",
      "export DOCKER_PASSWORD=fNsEDaX94GBkgH\n",
      "\n",
      "# >>> mamba initialize >>>\n",
      "# !! Contents within this block are managed by 'mamba init' !!\n",
      "export MAMBA_EXE='/opt/homebrew/bin/micromamba';\n",
      "export MAMBA_ROOT_PREFIX='/Users/poldrack/micromamba';\n",
      "__mamba_setup=\"$(\"$MAMBA_EXE\" shell hook --shell zsh --root-prefix \"$MAMBA_ROOT_PREFIX\" 2> /dev/null)\"\n",
      "if [ $? -eq 0 ]; then\n",
      "    eval \"$__mamba_setup\"\n",
      "else\n",
      "    alias micromamba=\"$MAMBA_EXE\"  # Fallback on help from mamba activate\n",
      "fi\n",
      "unset __mamba_setup\n",
      "# <<< mamba initialize <<<\n",
      "source /opt/homebrew/opt/chruby/share/chruby/chruby.sh\n",
      "source /opt/homebrew/opt/chruby/share/chruby/auto.sh\n",
      "chruby ruby-3.1.3\n",
      "# Added by LM Studio CLI tool (lms)\n",
      "export PATH=\"$PATH:/Users/poldrack/.cache/lm-studio/bin\"\n",
      "\n",
      "export FREESURFER_HOME=/Applications/freesurfer/7.4.1\n",
      "export SUBJECTS_DIR=/Users/poldrack/freesurfer/subjects\n",
      "#source $FREESURFER_HOME/SetUpFreeSurfer.sh > /dev/null\n",
      "\n",
      "export NCBI_API_KEY=02b508f2dd7ddf1ce242b0b2ce10b2216109\n"
     ]
    }
   ],
   "source": [
    "%%bash\n",
    "more ~/.zshrc\n"
   ]
  },
  {
   "cell_type": "markdown",
   "metadata": {},
   "source": [
    "### PRO TIP\n",
    "\n",
    "*Never* edit your startup files without having a backup shell open.  It is possible to make changes to a shell script that can prevent you from being able to log back into the system.  The best workflow for editing startup files is:\n",
    "\n",
    "- Open two separate shells on your computer.\n",
    "- Edit the startup file in one window.\n",
    "- After making the edits, trying sourcing the startup file from the other window.\n",
    "- If there are no obvious problems, then close the second window and start up a new shell. \n",
    "- Only after you have confirmed that the new shell opens properly should you close the first window."
   ]
  },
  {
   "cell_type": "markdown",
   "metadata": {},
   "source": [
    "#### Environment variables\n",
    "\n",
    "The initialization file sets up a number of *environment variables* that can be accessed by other commands. These can be listed using the `env` command:"
   ]
  },
  {
   "cell_type": "code",
   "execution_count": 16,
   "metadata": {
    "vscode": {
     "languageId": "shellscript"
    }
   },
   "outputs": [
    {
     "name": "stdout",
     "output_type": "stream",
     "text": [
      "CONDA_BACKUP_DEBUG_CXXFLAGS=-ftree-vectorize -fPIC -fstack-protector-strong -O2 -pipe -stdlib=libc++ -fvisibility-inlines-hidden -fmessage-length=0 -Og -g -Wall -Wextra -isystem /Users/poldrack/fsl/include\n",
      "CONDA_BACKUP_RANLIB=arm64-apple-darwin20.0.0-ranlib\n",
      "VSCODE_CLI=1\n",
      "MANPATH=/opt/homebrew/share/man::\n",
      "CONDA_BACKUP_OBJC_FOR_BUILD=/Users/poldrack/fsl/bin/@OBJC_FOR_BUILD@\n",
      "VSCODE_CRASH_REPORTER_PROCESS_TYPE=extensionHost\n",
      "TERM_PROGRAM=iTerm.app\n",
      "DOCKER_PASSWORD=fNsEDaX94GBkgH\n",
      "CONDA_BACKUP_INSTALL_NAME_TOOL=arm64-apple-darwin20.0.0-install_name_tool\n",
      "_P9K_TTY=/dev/ttys003\n",
      "GEM_HOME=/Users/poldrack/.gem/ruby/3.1.3\n",
      "CONDA_BACKUP_REDO_PREBINDING=arm64-apple-darwin20.0.0-redo_prebinding\n",
      "TERM=xterm-color\n",
      "SHELL=/bin/zsh\n",
      "CLICOLOR=1\n",
      "CONDA_BACKUP_AR=arm64-apple-darwin20.0.0-ar\n",
      "TMPDIR=/var/folders/r2/f85nyfr1785fj4257wkdj7480000gn/T/\n",
      "HOMEBREW_REPOSITORY=/opt/homebrew\n",
      "CONDA_BACKUP_AS=arm64-apple-darwin20.0.0-as\n",
      "FSLMULTIFILEQUIT=TRUE\n",
      "CONDA_SHLVL=3\n",
      "PYTHONUNBUFFERED=1\n",
      "TERM_PROGRAM_VERSION=3.5.2\n",
      "CONDA_PROMPT_MODIFIER=(py311) \n",
      "FSL_SKIP_GLOBAL=0\n",
      "ORIGINAL_XDG_CURRENT_DESKTOP=undefined\n",
      "MallocNanoZone=0\n",
      "PYDEVD_USE_FRAME_EVAL=NO\n",
      "CONDA_BACKUP_STRIP=arm64-apple-darwin20.0.0-strip\n",
      "CONDA_BACKUP_LD=arm64-apple-darwin20.0.0-ld\n",
      "TERM_SESSION_ID=w3t0p0:A48F22F2-9DE7-41A8-A3B8-B6E6D377B71D\n",
      "CONDA_BACKUP_OTOOL=arm64-apple-darwin20.0.0-otool\n",
      "ZSH=/Users/poldrack/.oh-my-zsh\n",
      "CONDA_BACKUP_LIBTOOL=arm64-apple-darwin20.0.0-libtool\n",
      "PYTHONIOENCODING=utf-8\n",
      "CONDA_BACKUP_ac_cv_func_malloc_0_nonnull=yes\n",
      "USER=poldrack\n",
      "CONDA_BACKUP_SIZE=arm64-apple-darwin20.0.0-size\n",
      "LS_COLORS=di=1;36:ln=35:so=32:pi=33:ex=31:bd=34;46:cd=34;43:su=30;41:sg=30;46:tw=30;42:ow=30;43\n",
      "CONDA_BACKUP_HOST=arm64-apple-darwin20.0.0\n",
      "CONDA_BACKUP_CHECKSYMS=arm64-apple-darwin20.0.0-checksyms\n",
      "NCBI_API_KEY=02b508f2dd7ddf1ce242b0b2ce10b2216109\n",
      "FSLGECUDAQ=cuda.q\n",
      "COMMAND_MODE=unix2003\n",
      "CONDA_EXE=/Users/poldrack/fsl/bin/conda\n",
      "CONDA_BACKUP_CXX_FOR_BUILD=/Users/poldrack/fsl/bin/arm64-apple-darwin20.0.0-clang++\n",
      "SSH_AUTH_SOCK=/private/tmp/com.apple.launchd.yZXxu2LAmi/Listeners\n",
      "CONDA_BACKUP_OBJC=arm64-apple-darwin20.0.0-clang\n",
      "CONDA_BACKUP_BUILD=arm64-apple-darwin20.0.0\n",
      "__CF_USER_TEXT_ENCODING=0x1F5:0x0:0x0\n",
      "CONDA_BACKUP_CLANG=arm64-apple-darwin20.0.0-clang\n",
      "TERM_FEATURES=T3LrMSc7UUw9Ts3BFGsSyHNoSxF\n",
      "PAGER=cat\n",
      "MAMBA_EXE=/Users/poldrack/Dropbox/code/UNIX_PowerTools/.micromamba/micromamba\n",
      "CONDA_BACKUP_PAGESTUFF=arm64-apple-darwin20.0.0-pagestuff\n",
      "CONDA_BACKUP_LDFLAGS=-Wl,-headerpad_max_install_names -Wl,-dead_strip_dylibs -Wl,-rpath,/Users/poldrack/fsl/lib -L/Users/poldrack/fsl/lib\n",
      "CONDA_BACKUP_host_alias=arm64-apple-darwin20.0.0\n",
      "ELECTRON_RUN_AS_NODE=1\n",
      "VSCODE_AMD_ENTRYPOINT=vs/workbench/api/node/extensionHostProcess\n",
      "FSL_LOAD_NIFTI_EXTENSIONS=0\n",
      "_CE_CONDA=\n",
      "SUBJECTS_DIR=/Users/poldrack/freesurfer/subjects\n",
      "LSCOLORS=Gxfxcxdxbxegedabagacad\n",
      "CONDA_ROOT=/Users/poldrack/fsl\n",
      "CONDA_BACKUP_CXX=arm64-apple-darwin20.0.0-clang++\n",
      "CONDA_PREFIX_1=/Users/poldrack/micromamba/envs/aineuro\n",
      "CONDA_BACKUP_CXXFLAGS=-ftree-vectorize -fPIC -fstack-protector-strong -O2 -pipe -stdlib=libc++ -fvisibility-inlines-hidden -fmessage-length=0 -isystem /Users/poldrack/fsl/include\n",
      "TERMINFO_DIRS=/Applications/iTerm.app/Contents/Resources/terminfo:/usr/share/terminfo\n",
      "PATH=/Users/poldrack/micromamba/envs/py311/bin:/Users/poldrack/Dropbox/code/UNIX_PowerTools/.micromamba:/Users/poldrack/micromamba/envs/py311/bin:/Users/poldrack/fsl/share/fsl/bin:/Users/poldrack/.gem/ruby/3.1.3/bin:/Users/poldrack/.rubies/ruby-3.1.3/lib/ruby/gems/3.1.0/bin:/Users/poldrack/.rubies/ruby-3.1.3/bin:/Users/poldrack/micromamba/condabin:/opt/homebrew/bin:/opt/homebrew/sbin:/usr/local/bin:/System/Cryptexes/App/usr/bin:/usr/bin:/bin:/usr/sbin:/sbin:/var/run/com.apple.security.cryptexd/codex.system/bootstrap/usr/local/bin:/var/run/com.apple.security.cryptexd/codex.system/bootstrap/usr/bin:/var/run/com.apple.security.cryptexd/codex.system/bootstrap/usr/appleinternal/bin:/opt/X11/bin:/Library/TeX/texbin:/Applications/iTerm.app/Contents/Resources/utilities:/Users/poldrack/bin/edirect:/Users/poldrack/.cache/lm-studio/bin:/Users/poldrack/fsl/share/fsl/bin\n",
      "_=/usr/bin/env\n",
      "CONDA_PREFIX_2=/Users/poldrack/fsl\n",
      "XML_CATALOG_FILES=file:///Users/poldrack/micromamba/envs/aineuro/etc/xml/catalog file:///etc/xml/catalog\n",
      "LaunchInstanceID=21A7EB31-C1BB-4A94-8587-DB7E7939F0D9\n",
      "__CFBundleIdentifier=com.microsoft.VSCode\n",
      "CONDA_PREFIX=/Users/poldrack/micromamba/envs/py311\n",
      "PWD=/Users/poldrack/Dropbox/code/UNIX_PowerTools\n",
      "CONDA_BACKUP_NMEDIT=arm64-apple-darwin20.0.0-nmedit\n",
      "CONDA_BACKUP_CC_FOR_BUILD=/Users/poldrack/fsl/bin/arm64-apple-darwin20.0.0-clang\n",
      "VSCODE_HANDLES_UNCAUGHT_ERRORS=true\n",
      "MAMBA_ROOT_PREFIX=/Users/poldrack/Dropbox/code/UNIX_PowerTools/.micromamba\n",
      "ELECTRON_NO_ATTACH_CONSOLE=1\n",
      "MPLBACKEND=module://matplotlib_inline.backend_inline\n",
      "CONDA_BACKUP_CONDA_TOOLCHAIN_BUILD=arm64-apple-darwin20.0.0\n",
      "CONDA_BACKUP_SDKROOT=/Library/Developer/CommandLineTools/SDKs/MacOSX.sdk\n",
      "P9K_SSH=0\n",
      "P9K_TTY=old\n",
      "LANG=en_US.UTF-8\n",
      "PYTHON_FROZEN_MODULES=on\n",
      "ITERM_PROFILE=Default\n",
      "FSLTCLSH=/Users/poldrack/fsl/bin/fsltclsh\n",
      "CONDA_BACKUP_MESON_ARGS=--buildtype release\n",
      "XPC_FLAGS=0x0\n",
      "CONDA_BACKUP_CLANGXX=arm64-apple-darwin20.0.0-clang++\n",
      "CONDA_BACKUP__CONDA_PYTHON_SYSCONFIGDATA_NAME=_sysconfigdata_arm64_apple_darwin20_0_0\n",
      "FORCE_COLOR=1\n",
      "RUBY_ENGINE=ruby\n",
      "FSLWISH=/Users/poldrack/fsl/bin/fslwish\n",
      "_CE_M=\n",
      "XPC_SERVICE_NAME=0\n",
      "SHLVL=5\n",
      "HOME=/Users/poldrack\n",
      "COLORFGBG=7;0\n",
      "CONDA_BACKUP_NM=arm64-apple-darwin20.0.0-nm\n",
      "CONDA_BACKUP_build_alias=arm64-apple-darwin20.0.0\n",
      "CONDA_BACKUP_CONDA_TOOLCHAIN_HOST=arm64-apple-darwin20.0.0\n",
      "VSCODE_NLS_CONFIG={\"locale\":\"en-us\",\"osLocale\":\"en-us\",\"availableLanguages\":{},\"_languagePackSupport\":true}\n",
      "LC_TERMINAL_VERSION=3.5.2\n",
      "FREESURFER_HOME=/Applications/freesurfer/7.4.1\n",
      "DOCKER_USERNAME=poldrack\n",
      "PYDEVD_IPYTHON_COMPATIBLE_DEBUGGING=1\n",
      "HOMEBREW_PREFIX=/opt/homebrew\n",
      "GEM_ROOT=/Users/poldrack/.rubies/ruby-3.1.3/lib/ruby/gems/3.1.0\n",
      "CONDA_BACKUP_DEBUG_CFLAGS=-ftree-vectorize -fPIC -fstack-protector-strong -O2 -pipe -Og -g -Wall -Wextra -isystem /Users/poldrack/fsl/include\n",
      "CONDA_BACKUP_ac_cv_func_realloc_0_nonnull=yes\n",
      "ITERM_SESSION_ID=w3t0p0:A48F22F2-9DE7-41A8-A3B8-B6E6D377B71D\n",
      "CONDA_PYTHON_EXE=/Users/poldrack/fsl/bin/python\n",
      "LOGNAME=poldrack\n",
      "LESS=-R\n",
      "CONDA_BACKUP_SEG_HACK=arm64-apple-darwin20.0.0-seg_hack\n",
      "FSLDIR=/Users/poldrack/fsl\n",
      "CONDA_BACKUP_CMAKE_PREFIX_PATH=:/Users/poldrack/fsl\n",
      "VSCODE_IPC_HOOK=/Users/poldrack/Library/Application Support/Code/1.91-main.sock\n",
      "VSCODE_CODE_CACHE_PATH=/Users/poldrack/Library/Application Support/Code/CachedData/f1e16e1e6214d7c44d078b1f0607b2388f29d729\n",
      "GEM_PATH=/Users/poldrack/.gem/ruby/3.1.3:/Users/poldrack/.rubies/ruby-3.1.3/lib/ruby/gems/3.1.0\n",
      "CLICOLOR_FORCE=1\n",
      "CONDA_BACKUP_CC=arm64-apple-darwin20.0.0-clang\n",
      "RUBY_ROOT=/Users/poldrack/.rubies/ruby-3.1.3\n",
      "CONDA_DEFAULT_ENV=py311\n",
      "CONDA_BACKUP_SEGEDIT=arm64-apple-darwin20.0.0-segedit\n",
      "VSCODE_PID=43590\n",
      "CONDA_BACKUP_STRINGS=arm64-apple-darwin20.0.0-strings\n",
      "CONDA_BACKUP_LDFLAGS_LD=-headerpad_max_install_names -dead_strip_dylibs -rpath /Users/poldrack/fsl/lib -L/Users/poldrack/fsl/lib\n",
      "INFOPATH=/opt/homebrew/share/info:\n",
      "HOMEBREW_CELLAR=/opt/homebrew/Cellar\n",
      "_P9K_SSH_TTY=/dev/ttys003\n",
      "LC_TERMINAL=iTerm2\n",
      "DISPLAY=/private/tmp/com.apple.launchd.NkaqQ4aGJ1/org.xquartz:0\n",
      "GIT_PAGER=cat\n",
      "FSLOUTPUTTYPE=NIFTI_GZ\n",
      "CONDA_BACKUP_CPPFLAGS=-D_FORTIFY_SOURCE=2 -isystem /Users/poldrack/fsl/include\n",
      "CONDA_BACKUP_CFLAGS=-ftree-vectorize -fPIC -fstack-protector-strong -O2 -pipe -isystem /Users/poldrack/fsl/include\n",
      "VSCODE_L10N_BUNDLE_LOCATION=\n",
      "VSCODE_CWD=/Users/poldrack/Dropbox/code/UNIX_PowerTools\n",
      "SECURITYSESSIONID=186b2\n",
      "RUBY_VERSION=3.1.3\n",
      "CONDA_BACKUP_LIPO=arm64-apple-darwin20.0.0-lipo\n",
      "CONDA_BACKUP_SEG_ADDR_TABLE=arm64-apple-darwin20.0.0-seg_addr_table\n",
      "COLORTERM=truecolor\n"
     ]
    }
   ],
   "source": [
    "%%bash\n",
    "\n",
    "env"
   ]
  },
  {
   "cell_type": "markdown",
   "metadata": {},
   "source": [
    "We can also access individual variables using the `$` prefix:"
   ]
  },
  {
   "cell_type": "code",
   "execution_count": 17,
   "metadata": {
    "vscode": {
     "languageId": "shellscript"
    }
   },
   "outputs": [
    {
     "name": "stdout",
     "output_type": "stream",
     "text": [
      "/Users/poldrack/fsl\n"
     ]
    }
   ],
   "source": [
    "%%bash\n",
    "\n",
    "echo $FSLDIR"
   ]
  },
  {
   "cell_type": "markdown",
   "metadata": {},
   "source": [
    "You can access these environment variables within Python using the `os.environ` function:"
   ]
  },
  {
   "cell_type": "code",
   "execution_count": 20,
   "metadata": {},
   "outputs": [
    {
     "name": "stdout",
     "output_type": "stream",
     "text": [
      "environ({'COLORFGBG': '7;0', 'COLORTERM': 'truecolor', 'COMMAND_MODE': 'unix2003', 'CONDA_DEFAULT_ENV': 'py311', 'CONDA_PREFIX': '/Users/poldrack/micromamba/envs/py311', 'CONDA_PREFIX_1': '/Users/poldrack/micromamba/envs/aineuro', 'CONDA_PROMPT_MODIFIER': '(py311) ', 'CONDA_SHLVL': '3', 'DISPLAY': '/private/tmp/com.apple.launchd.NkaqQ4aGJ1/org.xquartz:0', 'DOCKER_PASSWORD': 'fNsEDaX94GBkgH', 'DOCKER_USERNAME': 'poldrack', 'ELECTRON_NO_ATTACH_CONSOLE': '1', 'FREESURFER_HOME': '/Applications/freesurfer/7.4.1', 'FSLDIR': '/Users/poldrack/fsl', 'FSLGECUDAQ': 'cuda.q', 'FSLMULTIFILEQUIT': 'TRUE', 'FSLOUTPUTTYPE': 'NIFTI_GZ', 'FSLTCLSH': '/Users/poldrack/fsl/bin/fsltclsh', 'FSLWISH': '/Users/poldrack/fsl/bin/fslwish', 'FSL_LOAD_NIFTI_EXTENSIONS': '0', 'FSL_SKIP_GLOBAL': '0', 'GEM_HOME': '/Users/poldrack/.gem/ruby/3.1.3', 'GEM_PATH': '/Users/poldrack/.gem/ruby/3.1.3:/Users/poldrack/.rubies/ruby-3.1.3/lib/ruby/gems/3.1.0', 'GEM_ROOT': '/Users/poldrack/.rubies/ruby-3.1.3/lib/ruby/gems/3.1.0', 'HOME': '/Users/poldrack', 'HOMEBREW_CELLAR': '/opt/homebrew/Cellar', 'HOMEBREW_PREFIX': '/opt/homebrew', 'HOMEBREW_REPOSITORY': '/opt/homebrew', 'INFOPATH': '/opt/homebrew/share/info:', 'ITERM_PROFILE': 'Default', 'ITERM_SESSION_ID': 'w3t0p0:A48F22F2-9DE7-41A8-A3B8-B6E6D377B71D', 'LANG': 'en_US.UTF-8', 'LC_TERMINAL': 'iTerm2', 'LC_TERMINAL_VERSION': '3.5.2', 'LESS': '-R', 'LOGNAME': 'poldrack', 'LSCOLORS': 'Gxfxcxdxbxegedabagacad', 'LS_COLORS': 'di=1;36:ln=35:so=32:pi=33:ex=31:bd=34;46:cd=34;43:su=30;41:sg=30;46:tw=30;42:ow=30;43', 'LaunchInstanceID': '21A7EB31-C1BB-4A94-8587-DB7E7939F0D9', 'MAMBA_EXE': '/Users/poldrack/Dropbox/code/UNIX_PowerTools/.micromamba/micromamba', 'MAMBA_ROOT_PREFIX': '/Users/poldrack/Dropbox/code/UNIX_PowerTools/.micromamba', 'MANPATH': '/opt/homebrew/share/man::', 'MallocNanoZone': '0', 'NCBI_API_KEY': '02b508f2dd7ddf1ce242b0b2ce10b2216109', 'ORIGINAL_XDG_CURRENT_DESKTOP': 'undefined', 'P9K_SSH': '0', 'P9K_TTY': 'old', 'PAGER': 'cat', 'PATH': '/Users/poldrack/micromamba/envs/py311/bin:/Users/poldrack/Dropbox/code/UNIX_PowerTools/.micromamba:/Users/poldrack/micromamba/envs/py311/bin:/Users/poldrack/fsl/share/fsl/bin:/Users/poldrack/.gem/ruby/3.1.3/bin:/Users/poldrack/.rubies/ruby-3.1.3/lib/ruby/gems/3.1.0/bin:/Users/poldrack/.rubies/ruby-3.1.3/bin:/Users/poldrack/micromamba/condabin:/opt/homebrew/bin:/opt/homebrew/sbin:/usr/local/bin:/System/Cryptexes/App/usr/bin:/usr/bin:/bin:/usr/sbin:/sbin:/var/run/com.apple.security.cryptexd/codex.system/bootstrap/usr/local/bin:/var/run/com.apple.security.cryptexd/codex.system/bootstrap/usr/bin:/var/run/com.apple.security.cryptexd/codex.system/bootstrap/usr/appleinternal/bin:/opt/X11/bin:/Library/TeX/texbin:/Applications/iTerm.app/Contents/Resources/utilities:/Users/poldrack/bin/edirect:/Users/poldrack/.cache/lm-studio/bin:/Users/poldrack/fsl/share/fsl/bin', 'PWD': '/', 'RUBY_ENGINE': 'ruby', 'RUBY_ROOT': '/Users/poldrack/.rubies/ruby-3.1.3', 'RUBY_VERSION': '3.1.3', 'SECURITYSESSIONID': '186b2', 'SHELL': '/bin/zsh', 'SHLVL': '4', 'SSH_AUTH_SOCK': '/private/tmp/com.apple.launchd.yZXxu2LAmi/Listeners', 'SUBJECTS_DIR': '/Users/poldrack/freesurfer/subjects', 'TERM': 'xterm-color', 'TERMINFO_DIRS': '/Applications/iTerm.app/Contents/Resources/terminfo:/usr/share/terminfo', 'TERM_FEATURES': 'T3LrMSc7UUw9Ts3BFGsSyHNoSxF', 'TERM_PROGRAM': 'iTerm.app', 'TERM_PROGRAM_VERSION': '3.5.2', 'TERM_SESSION_ID': 'w3t0p0:A48F22F2-9DE7-41A8-A3B8-B6E6D377B71D', 'TMPDIR': '/var/folders/r2/f85nyfr1785fj4257wkdj7480000gn/T/', 'USER': 'poldrack', 'VSCODE_AMD_ENTRYPOINT': 'vs/workbench/api/node/extensionHostProcess', 'VSCODE_CLI': '1', 'VSCODE_CODE_CACHE_PATH': '/Users/poldrack/Library/Application Support/Code/CachedData/f1e16e1e6214d7c44d078b1f0607b2388f29d729', 'VSCODE_CRASH_REPORTER_PROCESS_TYPE': 'extensionHost', 'VSCODE_CWD': '/Users/poldrack/Dropbox/code/UNIX_PowerTools', 'VSCODE_HANDLES_UNCAUGHT_ERRORS': 'true', 'VSCODE_IPC_HOOK': '/Users/poldrack/Library/Application Support/Code/1.91-main.sock', 'VSCODE_NLS_CONFIG': '{\"locale\":\"en-us\",\"osLocale\":\"en-us\",\"availableLanguages\":{},\"_languagePackSupport\":true}', 'VSCODE_PID': '43590', 'XML_CATALOG_FILES': 'file:///Users/poldrack/micromamba/envs/aineuro/etc/xml/catalog file:///etc/xml/catalog', 'XPC_FLAGS': '0x0', 'XPC_SERVICE_NAME': '0', 'ZSH': '/Users/poldrack/.oh-my-zsh', '_P9K_SSH_TTY': '/dev/ttys003', '_P9K_TTY': '/dev/ttys003', '__CFBundleIdentifier': 'com.microsoft.VSCode', '__CF_USER_TEXT_ENCODING': '0x1F5:0x0:0x0', 'ELECTRON_RUN_AS_NODE': '1', 'VSCODE_L10N_BUNDLE_LOCATION': '', 'CONDA_BACKUP_RANLIB': 'arm64-apple-darwin20.0.0-ranlib', 'CONDA_BACKUP_DEBUG_CXXFLAGS': '-ftree-vectorize -fPIC -fstack-protector-strong -O2 -pipe -stdlib=libc++ -fvisibility-inlines-hidden -fmessage-length=0 -Og -g -Wall -Wextra -isystem /Users/poldrack/fsl/include', 'CONDA_BACKUP_OBJC_FOR_BUILD': '/Users/poldrack/fsl/bin/@OBJC_FOR_BUILD@', 'CONDA_BACKUP_INSTALL_NAME_TOOL': 'arm64-apple-darwin20.0.0-install_name_tool', 'CONDA_BACKUP_REDO_PREBINDING': 'arm64-apple-darwin20.0.0-redo_prebinding', 'CONDA_BACKUP_AR': 'arm64-apple-darwin20.0.0-ar', 'CONDA_BACKUP_AS': 'arm64-apple-darwin20.0.0-as', 'PYTHONUNBUFFERED': '1', 'CONDA_BACKUP_LD': 'arm64-apple-darwin20.0.0-ld', 'CONDA_BACKUP_STRIP': 'arm64-apple-darwin20.0.0-strip', 'CONDA_BACKUP_OTOOL': 'arm64-apple-darwin20.0.0-otool', 'CONDA_BACKUP_LIBTOOL': 'arm64-apple-darwin20.0.0-libtool', 'CONDA_BACKUP_ac_cv_func_malloc_0_nonnull': 'yes', 'PYTHONIOENCODING': 'utf-8', 'CONDA_BACKUP_SIZE': 'arm64-apple-darwin20.0.0-size', 'CONDA_BACKUP_CHECKSYMS': 'arm64-apple-darwin20.0.0-checksyms', 'CONDA_BACKUP_HOST': 'arm64-apple-darwin20.0.0', 'CONDA_EXE': '/Users/poldrack/fsl/bin/conda', 'CONDA_BACKUP_CXX_FOR_BUILD': '/Users/poldrack/fsl/bin/arm64-apple-darwin20.0.0-clang++', 'CONDA_BACKUP_BUILD': 'arm64-apple-darwin20.0.0', 'CONDA_BACKUP_OBJC': 'arm64-apple-darwin20.0.0-clang', 'CONDA_BACKUP_CLANG': 'arm64-apple-darwin20.0.0-clang', 'CONDA_BACKUP_host_alias': 'arm64-apple-darwin20.0.0', 'CONDA_BACKUP_LDFLAGS': '-Wl,-headerpad_max_install_names -Wl,-dead_strip_dylibs -Wl,-rpath,/Users/poldrack/fsl/lib -L/Users/poldrack/fsl/lib', 'CONDA_BACKUP_PAGESTUFF': 'arm64-apple-darwin20.0.0-pagestuff', '_CE_CONDA': '', 'CONDA_BACKUP_CXX': 'arm64-apple-darwin20.0.0-clang++', 'CONDA_ROOT': '/Users/poldrack/fsl', 'CONDA_BACKUP_CXXFLAGS': '-ftree-vectorize -fPIC -fstack-protector-strong -O2 -pipe -stdlib=libc++ -fvisibility-inlines-hidden -fmessage-length=0 -isystem /Users/poldrack/fsl/include', 'CONDA_PREFIX_2': '/Users/poldrack/fsl', 'CONDA_BACKUP_CC_FOR_BUILD': '/Users/poldrack/fsl/bin/arm64-apple-darwin20.0.0-clang', 'CONDA_BACKUP_NMEDIT': 'arm64-apple-darwin20.0.0-nmedit', 'CONDA_BACKUP_SDKROOT': '/Library/Developer/CommandLineTools/SDKs/MacOSX.sdk', 'CONDA_BACKUP_CONDA_TOOLCHAIN_BUILD': 'arm64-apple-darwin20.0.0', 'CONDA_BACKUP_MESON_ARGS': '--buildtype release', 'CONDA_BACKUP__CONDA_PYTHON_SYSCONFIGDATA_NAME': '_sysconfigdata_arm64_apple_darwin20_0_0', 'CONDA_BACKUP_CLANGXX': 'arm64-apple-darwin20.0.0-clang++', '_CE_M': '', 'CONDA_BACKUP_build_alias': 'arm64-apple-darwin20.0.0', 'CONDA_BACKUP_NM': 'arm64-apple-darwin20.0.0-nm', 'CONDA_BACKUP_CONDA_TOOLCHAIN_HOST': 'arm64-apple-darwin20.0.0', 'CONDA_BACKUP_ac_cv_func_realloc_0_nonnull': 'yes', 'CONDA_BACKUP_DEBUG_CFLAGS': '-ftree-vectorize -fPIC -fstack-protector-strong -O2 -pipe -Og -g -Wall -Wextra -isystem /Users/poldrack/fsl/include', 'CONDA_PYTHON_EXE': '/Users/poldrack/fsl/bin/python', 'CONDA_BACKUP_SEG_HACK': 'arm64-apple-darwin20.0.0-seg_hack', 'CONDA_BACKUP_CMAKE_PREFIX_PATH': ':/Users/poldrack/fsl', 'CONDA_BACKUP_CC': 'arm64-apple-darwin20.0.0-clang', 'CONDA_BACKUP_SEGEDIT': 'arm64-apple-darwin20.0.0-segedit', 'CONDA_BACKUP_LDFLAGS_LD': '-headerpad_max_install_names -dead_strip_dylibs -rpath /Users/poldrack/fsl/lib -L/Users/poldrack/fsl/lib', 'CONDA_BACKUP_STRINGS': 'arm64-apple-darwin20.0.0-strings', 'CONDA_BACKUP_CFLAGS': '-ftree-vectorize -fPIC -fstack-protector-strong -O2 -pipe -isystem /Users/poldrack/fsl/include', 'CONDA_BACKUP_CPPFLAGS': '-D_FORTIFY_SOURCE=2 -isystem /Users/poldrack/fsl/include', 'CONDA_BACKUP_SEG_ADDR_TABLE': 'arm64-apple-darwin20.0.0-seg_addr_table', 'CONDA_BACKUP_LIPO': 'arm64-apple-darwin20.0.0-lipo', '_': '/Users/poldrack/micromamba/envs/py311/bin/python', 'PYDEVD_IPYTHON_COMPATIBLE_DEBUGGING': '1', 'PYTHON_FROZEN_MODULES': 'on', 'PYDEVD_USE_FRAME_EVAL': 'NO', 'CLICOLOR': '1', 'FORCE_COLOR': '1', 'CLICOLOR_FORCE': '1', 'GIT_PAGER': 'cat', 'MPLBACKEND': 'module://matplotlib_inline.backend_inline'})\n",
      "/Users/poldrack/fsl\n"
     ]
    }
   ],
   "source": [
    "import os\n",
    "print(os.environ)\n",
    "print(os.environ['FSLDIR'])"
   ]
  },
  {
   "cell_type": "markdown",
   "metadata": {},
   "source": [
    "This is a good way to access information that you don't want to include in code, such as authentication secrets."
   ]
  },
  {
   "cell_type": "markdown",
   "metadata": {},
   "source": [
    "### The `screen` command\n",
    "\n",
    "Sometimes you want to run a command in the background, but you do not want to keep the terminal open; for example, you might want to run a job that will take several hours, but you don't want to keep the window open that whole time. You can use the `screen` command to do this.  \n",
    "\n",
    "`screen` will start a new screen session\n",
    "\n",
    "To exit this session but leave it running, use the combination of Ctrl-A and then d, which will detach from the screen.\n",
    "\n",
    "`screen -ls` will show you the running screen sessions.\n",
    "\n",
    "You can reattach to a screen session using `screen -r` if there is only a single session running. If there are multiple running then you will need to provide the session id obtained from `screen -ls` - e.g. `screen -r 12046.ttys005.Russells-MacBook-Pro`\n",
    "\n",
    "To close the screen session, simply reattach and then type `exit`"
   ]
  },
  {
   "cell_type": "markdown",
   "metadata": {},
   "source": [
    "### Using redirection and pipes\n",
    "\n",
    "We often want to take the output from one command and use it as input for another command.  For example, the `grep` command will search for lines in its input that match some particular expression.  Let's say that we want to look in our environment to find any variables that contain the text \"FSL\".  \n",
    "\n",
    "One way to do this would be to first redirect the output from the `env` command into a file, and then to use `grep` on that file to find the relevant lines:"
   ]
  },
  {
   "cell_type": "code",
   "execution_count": 18,
   "metadata": {
    "vscode": {
     "languageId": "shellscript"
    }
   },
   "outputs": [
    {
     "name": "stdout",
     "output_type": "stream",
     "text": [
      "FSLMULTIFILEQUIT=TRUE\n",
      "FSL_SKIP_GLOBAL=0\n",
      "FSLGECUDAQ=cuda.q\n",
      "FSL_LOAD_NIFTI_EXTENSIONS=0\n",
      "FSLTCLSH=/Users/poldrack/fsl/bin/fsltclsh\n",
      "FSLWISH=/Users/poldrack/fsl/bin/fslwish\n",
      "FSLDIR=/Users/poldrack/fsl\n",
      "FSLOUTPUTTYPE=NIFTI_GZ\n"
     ]
    }
   ],
   "source": [
    "%%bash\n",
    "\n",
    "env > /tmp/env\n",
    "grep FSL /tmp/env"
   ]
  },
  {
   "cell_type": "markdown",
   "metadata": {},
   "source": [
    "We can also do this in a single step by *piping* the output from the `env` command into `grep`, using the pipe character `|`.  "
   ]
  },
  {
   "cell_type": "code",
   "execution_count": 19,
   "metadata": {
    "vscode": {
     "languageId": "shellscript"
    }
   },
   "outputs": [
    {
     "name": "stdout",
     "output_type": "stream",
     "text": [
      "FSLMULTIFILEQUIT=TRUE\n",
      "FSL_SKIP_GLOBAL=0\n",
      "FSLGECUDAQ=cuda.q\n",
      "FSL_LOAD_NIFTI_EXTENSIONS=0\n",
      "FSLTCLSH=/Users/poldrack/fsl/bin/fsltclsh\n",
      "FSLWISH=/Users/poldrack/fsl/bin/fslwish\n",
      "FSLDIR=/Users/poldrack/fsl\n",
      "FSLOUTPUTTYPE=NIFTI_GZ\n"
     ]
    }
   ],
   "source": [
    "%%bash\n",
    "\n",
    "env | grep FSL"
   ]
  },
  {
   "cell_type": "markdown",
   "metadata": {},
   "source": [
    "We can also string together multiple commands using pipes. Let's say that we want to find the list containing \"FSL\", replace the equal sign with a colon (using the `sed` command that we may discuss later), and then save the results to a text file using the redirect character `>`:"
   ]
  },
  {
   "cell_type": "code",
   "execution_count": 3,
   "metadata": {
    "vscode": {
     "languageId": "shellscript"
    }
   },
   "outputs": [],
   "source": [
    "%%bash\n",
    "\n",
    "env | grep FSL | sed 's/=/: /' > /tmp/fsl2\n",
    "\n"
   ]
  },
  {
   "cell_type": "markdown",
   "metadata": {},
   "source": [
    "We can look at the contents using `cat`:"
   ]
  },
  {
   "cell_type": "code",
   "execution_count": 4,
   "metadata": {
    "vscode": {
     "languageId": "shellscript"
    }
   },
   "outputs": [
    {
     "name": "stdout",
     "output_type": "stream",
     "text": [
      "FSLMULTIFILEQUIT: TRUE\n",
      "FSL_SKIP_GLOBAL: 0\n",
      "FSLGECUDAQ: cuda.q\n",
      "FSL_LOAD_NIFTI_EXTENSIONS: 0\n",
      "FSLTCLSH: /Users/poldrack/fsl/bin/fsltclsh\n",
      "FSLWISH: /Users/poldrack/fsl/bin/fslwish\n",
      "FSLDIR: /Users/poldrack/fsl\n",
      "FSLOUTPUTTYPE: NIFTI_GZ\n"
     ]
    }
   ],
   "source": [
    "%%bash\n",
    "cat /tmp/fsl2\n"
   ]
  },
  {
   "cell_type": "markdown",
   "metadata": {},
   "source": [
    "### Understanding the file system\n",
    "\n",
    "`pwd`: gives the present working directory"
   ]
  },
  {
   "cell_type": "code",
   "execution_count": 1,
   "metadata": {
    "vscode": {
     "languageId": "shellscript"
    }
   },
   "outputs": [
    {
     "name": "stdout",
     "output_type": "stream",
     "text": [
      "/Users/poldrack/Dropbox/code/UNIX_PowerTools\n"
     ]
    }
   ],
   "source": [
    "%%bash\n",
    "\n",
    "pwd\n"
   ]
  },
  {
   "cell_type": "markdown",
   "metadata": {},
   "source": [
    "`ls -l`: list the files in the current directory with additional info "
   ]
  },
  {
   "cell_type": "code",
   "execution_count": 2,
   "metadata": {
    "vscode": {
     "languageId": "shellscript"
    }
   },
   "outputs": [
    {
     "name": "stdout",
     "output_type": "stream",
     "text": [
      "total 32\n",
      "-rw-r--r--   1 poldrack  staff  8877 Aug  2 11:49 UNIX_PowerTools.ipynb\n",
      "dr--r--r--   2 poldrack  staff    64 Aug  2 11:44 \u001b[1m\u001b[36mfoo\u001b[m\u001b[m\n",
      "-rw-r--r--   1 poldrack  staff  2271 Jul 31 11:16 powertools_prep.ipynb\n",
      "drwxr-xr-x@ 12 poldrack  staff   384 Jul 31 09:33 \u001b[1m\u001b[36mdatadir\u001b[m\u001b[m\n"
     ]
    }
   ],
   "source": [
    "%%bash\n",
    "\n",
    "ls -lt"
   ]
  },
  {
   "cell_type": "markdown",
   "metadata": {},
   "source": [
    "Use `du` to find out how much disk space is taken up by contents:"
   ]
  },
  {
   "cell_type": "code",
   "execution_count": 15,
   "metadata": {
    "vscode": {
     "languageId": "shellscript"
    }
   },
   "outputs": [
    {
     "name": "stdout",
     "output_type": "stream",
     "text": [
      "4.0K\tMakefile\n",
      " 72K\tUNIX_PowerTools.ipynb\n",
      "4.0K\tconvert_csv_to_tsv.sh\n",
      "4.0K\tcsv2tsv.py\n",
      "1.1M\tdatadir\n",
      "  0B\tfoo\n",
      "4.0K\tpowertools_prep.ipynb\n",
      "4.0K\ttest.txt\n",
      "4.0K\twait.py\n"
     ]
    }
   ],
   "source": [
    "%%bash\n",
    "\n",
    "du -sh *"
   ]
  },
  {
   "cell_type": "markdown",
   "metadata": {},
   "source": [
    "### Using `pushd` and `popd`\n",
    "\n",
    "Often you want to go to a directory to do something but then return to where you were. This is easy to do with `pushd` and `popd`."
   ]
  },
  {
   "cell_type": "code",
   "execution_count": 21,
   "metadata": {
    "vscode": {
     "languageId": "shellscript"
    }
   },
   "outputs": [
    {
     "name": "stdout",
     "output_type": "stream",
     "text": [
      "current directory: /Users/poldrack/Dropbox/code/UNIX_PowerTools\n",
      "\n",
      "pushing to /tmp\n",
      "/tmp ~/Dropbox/code/UNIX_PowerTools\n",
      "current directory: /tmp\n",
      "\n",
      "popping back\n",
      "~/Dropbox/code/UNIX_PowerTools\n",
      "current directory: /Users/poldrack/Dropbox/code/UNIX_PowerTools\n"
     ]
    }
   ],
   "source": [
    "%%bash\n",
    "\n",
    "echo \"current directory:\" $PWD\n",
    "echo \"\"\n",
    "\n",
    "echo \"pushing to /tmp\"\n",
    "pushd /tmp\n",
    "echo \"current directory:\" $PWD\n",
    "\n",
    "echo \"\"\n",
    "echo \"popping back\"\n",
    "popd\n",
    "echo \"current directory:\" $PWD\n"
   ]
  },
  {
   "cell_type": "markdown",
   "metadata": {},
   "source": [
    "#### UNIX permissions\n",
    "\n",
    "```\n",
    "-rw-r--r--   1 poldrack  staff  2839 Aug  2 11:36 UNIX_PowerTools.ipynb\n",
    "|[-][-][-]-    [------]  [---]\n",
    "| |  |  | |      |       |\n",
    "| |  |  | |      |       +-----------> 7. Group\n",
    "| |  |  | |      +-------------------> 6. Owner\n",
    "| |  |  | +--------------------------> 5. Alternate Access Method\n",
    "| |  |  +----------------------------> 4. Others Permissions\n",
    "| |  +-------------------------------> 3. Group Permissions\n",
    "| +----------------------------------> 2. Owner Permissions\n",
    "+------------------------------------> 1. File Type\n",
    "```\n",
    "\n",
    "We can change the permissions using symbolic codes:\n",
    "\n",
    "```\n",
    "    u - The file owner.\n",
    "    g - The users who are members of the group.\n",
    "    o - All other users.\n",
    "    a - All users, identical to ugo.\n",
    "\n",
    "    r - read\n",
    "    w - write\n",
    "    x - execute (also controls cd'ing into a directory)\n",
    "```\n",
    "\n",
    "resources:\n",
    "- https://linuxize.com/post/understanding-linux-file-permissions/\n",
    "\n"
   ]
  },
  {
   "cell_type": "code",
   "execution_count": 5,
   "metadata": {
    "vscode": {
     "languageId": "shellscript"
    }
   },
   "outputs": [
    {
     "name": "stderr",
     "output_type": "stream",
     "text": [
      "mkdir: foo: File exists\n"
     ]
    },
    {
     "name": "stdout",
     "output_type": "stream",
     "text": [
      "total 88\n",
      "-rw-r--r--@  1 poldrack  staff  37552 Aug  2 12:18 UNIX_PowerTools.ipynb\n",
      "drwxr-xr-x@ 12 poldrack  staff    384 Jul 31 09:33 \u001b[1m\u001b[36mdatadir\u001b[m\u001b[m\n",
      "drwxrwx---   2 poldrack  staff     64 Aug  2 12:00 \u001b[1m\u001b[36mfoo\u001b[m\u001b[m\n",
      "-rw-r--r--   1 poldrack  staff   2271 Jul 31 11:16 powertools_prep.ipynb\n",
      "total 88\n",
      "-rw-r--r--@  1 poldrack  staff  37552 Aug  2 12:18 UNIX_PowerTools.ipynb\n",
      "drwxrwx---   2 poldrack  staff     64 Aug  2 12:00 \u001b[1m\u001b[36mfoo\u001b[m\u001b[m\n",
      "-rw-r--r--   1 poldrack  staff   2271 Jul 31 11:16 powertools_prep.ipynb\n",
      "drwxr-xr-x@ 12 poldrack  staff    384 Jul 31 09:33 \u001b[1m\u001b[36mdatadir\u001b[m\u001b[m\n"
     ]
    }
   ],
   "source": [
    "%%bash\n",
    "\n",
    "mkdir foo\n",
    "ls -l\n",
    "\n",
    "chmod g+rwx,o-rx foo\n",
    "ls -lt\n",
    "\n",
    "rmdir foo\n"
   ]
  },
  {
   "cell_type": "code",
   "execution_count": 6,
   "metadata": {
    "tags": [
     "raises-exception"
    ],
    "vscode": {
     "languageId": "shellscript"
    }
   },
   "outputs": [
    {
     "name": "stderr",
     "output_type": "stream",
     "text": [
      "bash: line 4: cd: foo: Permission denied\n"
     ]
    },
    {
     "ename": "CalledProcessError",
     "evalue": "Command 'b'\\nmkdir foo\\nchmod 444 foo\\ncd foo\\n'' returned non-zero exit status 1.",
     "output_type": "error",
     "traceback": [
      "\u001b[0;31m---------------------------------------------------------------------------\u001b[0m",
      "\u001b[0;31mCalledProcessError\u001b[0m                        Traceback (most recent call last)",
      "Cell \u001b[0;32mIn[6], line 1\u001b[0m\n\u001b[0;32m----> 1\u001b[0m \u001b[43mget_ipython\u001b[49m\u001b[43m(\u001b[49m\u001b[43m)\u001b[49m\u001b[38;5;241;43m.\u001b[39;49m\u001b[43mrun_cell_magic\u001b[49m\u001b[43m(\u001b[49m\u001b[38;5;124;43m'\u001b[39;49m\u001b[38;5;124;43mbash\u001b[39;49m\u001b[38;5;124;43m'\u001b[39;49m\u001b[43m,\u001b[49m\u001b[43m \u001b[49m\u001b[38;5;124;43m'\u001b[39;49m\u001b[38;5;124;43m'\u001b[39;49m\u001b[43m,\u001b[49m\u001b[43m \u001b[49m\u001b[38;5;124;43m'\u001b[39;49m\u001b[38;5;130;43;01m\\n\u001b[39;49;00m\u001b[38;5;124;43mmkdir foo\u001b[39;49m\u001b[38;5;130;43;01m\\n\u001b[39;49;00m\u001b[38;5;124;43mchmod 444 foo\u001b[39;49m\u001b[38;5;130;43;01m\\n\u001b[39;49;00m\u001b[38;5;124;43mcd foo\u001b[39;49m\u001b[38;5;130;43;01m\\n\u001b[39;49;00m\u001b[38;5;124;43m'\u001b[39;49m\u001b[43m)\u001b[49m\n",
      "File \u001b[0;32m~/micromamba/envs/py311/lib/python3.12/site-packages/IPython/core/interactiveshell.py:2541\u001b[0m, in \u001b[0;36mInteractiveShell.run_cell_magic\u001b[0;34m(self, magic_name, line, cell)\u001b[0m\n\u001b[1;32m   2539\u001b[0m \u001b[38;5;28;01mwith\u001b[39;00m \u001b[38;5;28mself\u001b[39m\u001b[38;5;241m.\u001b[39mbuiltin_trap:\n\u001b[1;32m   2540\u001b[0m     args \u001b[38;5;241m=\u001b[39m (magic_arg_s, cell)\n\u001b[0;32m-> 2541\u001b[0m     result \u001b[38;5;241m=\u001b[39m \u001b[43mfn\u001b[49m\u001b[43m(\u001b[49m\u001b[38;5;241;43m*\u001b[39;49m\u001b[43margs\u001b[49m\u001b[43m,\u001b[49m\u001b[43m \u001b[49m\u001b[38;5;241;43m*\u001b[39;49m\u001b[38;5;241;43m*\u001b[39;49m\u001b[43mkwargs\u001b[49m\u001b[43m)\u001b[49m\n\u001b[1;32m   2543\u001b[0m \u001b[38;5;66;03m# The code below prevents the output from being displayed\u001b[39;00m\n\u001b[1;32m   2544\u001b[0m \u001b[38;5;66;03m# when using magics with decorator @output_can_be_silenced\u001b[39;00m\n\u001b[1;32m   2545\u001b[0m \u001b[38;5;66;03m# when the last Python token in the expression is a ';'.\u001b[39;00m\n\u001b[1;32m   2546\u001b[0m \u001b[38;5;28;01mif\u001b[39;00m \u001b[38;5;28mgetattr\u001b[39m(fn, magic\u001b[38;5;241m.\u001b[39mMAGIC_OUTPUT_CAN_BE_SILENCED, \u001b[38;5;28;01mFalse\u001b[39;00m):\n",
      "File \u001b[0;32m~/micromamba/envs/py311/lib/python3.12/site-packages/IPython/core/magics/script.py:155\u001b[0m, in \u001b[0;36mScriptMagics._make_script_magic.<locals>.named_script_magic\u001b[0;34m(line, cell)\u001b[0m\n\u001b[1;32m    153\u001b[0m \u001b[38;5;28;01melse\u001b[39;00m:\n\u001b[1;32m    154\u001b[0m     line \u001b[38;5;241m=\u001b[39m script\n\u001b[0;32m--> 155\u001b[0m \u001b[38;5;28;01mreturn\u001b[39;00m \u001b[38;5;28;43mself\u001b[39;49m\u001b[38;5;241;43m.\u001b[39;49m\u001b[43mshebang\u001b[49m\u001b[43m(\u001b[49m\u001b[43mline\u001b[49m\u001b[43m,\u001b[49m\u001b[43m \u001b[49m\u001b[43mcell\u001b[49m\u001b[43m)\u001b[49m\n",
      "File \u001b[0;32m~/micromamba/envs/py311/lib/python3.12/site-packages/IPython/core/magics/script.py:315\u001b[0m, in \u001b[0;36mScriptMagics.shebang\u001b[0;34m(self, line, cell)\u001b[0m\n\u001b[1;32m    310\u001b[0m \u001b[38;5;28;01mif\u001b[39;00m args\u001b[38;5;241m.\u001b[39mraise_error \u001b[38;5;129;01mand\u001b[39;00m p\u001b[38;5;241m.\u001b[39mreturncode \u001b[38;5;241m!=\u001b[39m \u001b[38;5;241m0\u001b[39m:\n\u001b[1;32m    311\u001b[0m     \u001b[38;5;66;03m# If we get here and p.returncode is still None, we must have\u001b[39;00m\n\u001b[1;32m    312\u001b[0m     \u001b[38;5;66;03m# killed it but not yet seen its return code. We don't wait for it,\u001b[39;00m\n\u001b[1;32m    313\u001b[0m     \u001b[38;5;66;03m# in case it's stuck in uninterruptible sleep. -9 = SIGKILL\u001b[39;00m\n\u001b[1;32m    314\u001b[0m     rc \u001b[38;5;241m=\u001b[39m p\u001b[38;5;241m.\u001b[39mreturncode \u001b[38;5;129;01mor\u001b[39;00m \u001b[38;5;241m-\u001b[39m\u001b[38;5;241m9\u001b[39m\n\u001b[0;32m--> 315\u001b[0m     \u001b[38;5;28;01mraise\u001b[39;00m CalledProcessError(rc, cell)\n",
      "\u001b[0;31mCalledProcessError\u001b[0m: Command 'b'\\nmkdir foo\\nchmod 444 foo\\ncd foo\\n'' returned non-zero exit status 1."
     ]
    }
   ],
   "source": [
    "%%bash\n",
    "\n",
    "mkdir foo\n",
    "chmod 444 foo\n",
    "cd foo"
   ]
  },
  {
   "cell_type": "markdown",
   "metadata": {},
   "source": [
    "#### The `find` command"
   ]
  },
  {
   "cell_type": "code",
   "execution_count": 24,
   "metadata": {
    "vscode": {
     "languageId": "shellscript"
    }
   },
   "outputs": [
    {
     "name": "stdout",
     "output_type": "stream",
     "text": [
      "datadir\n",
      "datadir/subdir_07\n",
      "datadir/subdir_07/textfile_01.txt\n",
      "datadir/subdir_07/textfile_03.txt\n",
      "datadir/subdir_07/textfile_02.txt\n",
      "datadir/subdir_07/textfile_06.txt\n",
      "datadir/subdir_07/textfile_07.txt\n",
      "datadir/subdir_07/textfile_05.txt\n",
      "datadir/subdir_07/textfile_04.txt\n",
      "datadir/subdir_07/textfile_10.txt\n",
      "datadir/subdir_07/datafile_01.csv\n",
      "datadir/subdir_07/datafile_03.csv\n",
      "datadir/subdir_07/datafile_02.csv\n",
      "datadir/subdir_07/datafile_06.csv\n",
      "datadir/subdir_07/datafile_07.csv\n",
      "datadir/subdir_07/datafile_05.csv\n",
      "datadir/subdir_07/datafile_10.csv\n",
      "datadir/subdir_07/datafile_04.csv\n",
      "datadir/subdir_07/datafile_09.csv\n",
      "datadir/subdir_07/datafile_08.csv\n",
      "datadir/subdir_07/textfile_09.txt\n",
      "datadir/subdir_07/textfile_08.txt\n",
      "datadir/subdir_09\n",
      "datadir/subdir_09/textfile_01.txt\n",
      "datadir/subdir_09/textfile_03.txt\n",
      "datadir/subdir_09/textfile_02.txt\n",
      "datadir/subdir_09/textfile_06.txt\n",
      "datadir/subdir_09/textfile_07.txt\n",
      "datadir/subdir_09/textfile_05.txt\n",
      "datadir/subdir_09/textfile_04.txt\n",
      "datadir/subdir_09/textfile_10.txt\n",
      "datadir/subdir_09/datafile_01.csv\n",
      "datadir/subdir_09/datafile_03.csv\n",
      "datadir/subdir_09/datafile_02.csv\n",
      "datadir/subdir_09/datafile_06.csv\n",
      "datadir/subdir_09/datafile_07.csv\n",
      "datadir/subdir_09/datafile_05.csv\n",
      "datadir/subdir_09/datafile_10.csv\n",
      "datadir/subdir_09/datafile_04.csv\n",
      "datadir/subdir_09/datafile_09.csv\n",
      "datadir/subdir_09/datafile_08.csv\n",
      "datadir/subdir_09/textfile_09.txt\n",
      "datadir/subdir_09/textfile_08.txt\n",
      "datadir/subdir_08\n",
      "datadir/subdir_08/textfile_01.txt\n",
      "datadir/subdir_08/textfile_03.txt\n",
      "datadir/subdir_08/textfile_02.txt\n",
      "datadir/subdir_08/textfile_06.txt\n",
      "datadir/subdir_08/textfile_07.txt\n",
      "datadir/subdir_08/textfile_05.txt\n",
      "datadir/subdir_08/textfile_04.txt\n",
      "datadir/subdir_08/textfile_10.txt\n",
      "datadir/subdir_08/datafile_01.csv\n",
      "datadir/subdir_08/datafile_03.csv\n",
      "datadir/subdir_08/datafile_02.csv\n",
      "datadir/subdir_08/datafile_06.csv\n",
      "datadir/subdir_08/datafile_07.csv\n",
      "datadir/subdir_08/datafile_05.csv\n",
      "datadir/subdir_08/datafile_10.csv\n",
      "datadir/subdir_08/datafile_04.csv\n",
      "datadir/subdir_08/datafile_09.csv\n",
      "datadir/subdir_08/datafile_08.csv\n",
      "datadir/subdir_08/textfile_09.txt\n",
      "datadir/subdir_08/textfile_08.txt\n",
      "datadir/subdir_06\n",
      "datadir/subdir_06/textfile_01.txt\n",
      "datadir/subdir_06/textfile_03.txt\n",
      "datadir/subdir_06/textfile_02.txt\n",
      "datadir/subdir_06/textfile_06.txt\n",
      "datadir/subdir_06/textfile_07.txt\n",
      "datadir/subdir_06/textfile_05.txt\n",
      "datadir/subdir_06/textfile_04.txt\n",
      "datadir/subdir_06/textfile_10.txt\n",
      "datadir/subdir_06/datafile_01.csv\n",
      "datadir/subdir_06/datafile_03.csv\n",
      "datadir/subdir_06/datafile_02.csv\n",
      "datadir/subdir_06/datafile_06.csv\n",
      "datadir/subdir_06/datafile_07.csv\n",
      "datadir/subdir_06/datafile_05.csv\n",
      "datadir/subdir_06/datafile_10.csv\n",
      "datadir/subdir_06/datafile_04.csv\n",
      "datadir/subdir_06/datafile_09.csv\n",
      "datadir/subdir_06/datafile_08.csv\n",
      "datadir/subdir_06/textfile_09.txt\n",
      "datadir/subdir_06/textfile_08.txt\n",
      "datadir/subdir_01\n",
      "datadir/subdir_01/textfile_01.txt\n",
      "datadir/subdir_01/textfile_03.txt\n",
      "datadir/subdir_01/textfile_02.txt\n",
      "datadir/subdir_01/textfile_06.txt\n",
      "datadir/subdir_01/textfile_07.txt\n",
      "datadir/subdir_01/textfile_05.txt\n",
      "datadir/subdir_01/textfile_04.txt\n",
      "datadir/subdir_01/textfile_10.txt\n",
      "datadir/subdir_01/datafile_01.csv\n",
      "datadir/subdir_01/datafile_03.csv\n",
      "datadir/subdir_01/datafile_02.csv\n",
      "datadir/subdir_01/datafile_06.csv\n",
      "datadir/subdir_01/datafile_07.csv\n",
      "datadir/subdir_01/datafile_05.csv\n",
      "datadir/subdir_01/datafile_10.csv\n",
      "datadir/subdir_01/datafile_04.csv\n",
      "datadir/subdir_01/datafile_09.csv\n",
      "datadir/subdir_01/datafile_08.csv\n",
      "datadir/subdir_01/textfile_09.txt\n",
      "datadir/subdir_01/textfile_08.txt\n",
      "datadir/subdir_10\n",
      "datadir/subdir_10/textfile_01.txt\n",
      "datadir/subdir_10/textfile_03.txt\n",
      "datadir/subdir_10/textfile_02.txt\n",
      "datadir/subdir_10/textfile_06.txt\n",
      "datadir/subdir_10/textfile_07.txt\n",
      "datadir/subdir_10/textfile_05.txt\n",
      "datadir/subdir_10/textfile_04.txt\n",
      "datadir/subdir_10/textfile_10.txt\n",
      "datadir/subdir_10/datafile_01.csv\n",
      "datadir/subdir_10/datafile_03.csv\n",
      "datadir/subdir_10/datafile_02.csv\n",
      "datadir/subdir_10/datafile_06.csv\n",
      "datadir/subdir_10/datafile_07.csv\n",
      "datadir/subdir_10/datafile_05.csv\n",
      "datadir/subdir_10/datafile_10.csv\n",
      "datadir/subdir_10/datafile_04.csv\n",
      "datadir/subdir_10/datafile_09.csv\n",
      "datadir/subdir_10/datafile_08.csv\n",
      "datadir/subdir_10/textfile_09.txt\n",
      "datadir/subdir_10/textfile_08.txt\n",
      "datadir/subdir_04\n",
      "datadir/subdir_04/textfile_01.txt\n",
      "datadir/subdir_04/textfile_03.txt\n",
      "datadir/subdir_04/textfile_02.txt\n",
      "datadir/subdir_04/textfile_06.txt\n",
      "datadir/subdir_04/textfile_07.txt\n",
      "datadir/subdir_04/textfile_05.txt\n",
      "datadir/subdir_04/textfile_04.txt\n",
      "datadir/subdir_04/textfile_10.txt\n",
      "datadir/subdir_04/datafile_01.csv\n",
      "datadir/subdir_04/datafile_03.csv\n",
      "datadir/subdir_04/datafile_02.csv\n",
      "datadir/subdir_04/datafile_06.csv\n",
      "datadir/subdir_04/datafile_07.csv\n",
      "datadir/subdir_04/datafile_05.csv\n",
      "datadir/subdir_04/datafile_10.csv\n",
      "datadir/subdir_04/datafile_04.csv\n",
      "datadir/subdir_04/datafile_09.csv\n",
      "datadir/subdir_04/datafile_08.csv\n",
      "datadir/subdir_04/textfile_09.txt\n",
      "datadir/subdir_04/textfile_08.txt\n",
      "datadir/subdir_03\n",
      "datadir/subdir_03/textfile_01.txt\n",
      "datadir/subdir_03/textfile_03.txt\n",
      "datadir/subdir_03/textfile_02.txt\n",
      "datadir/subdir_03/textfile_06.txt\n",
      "datadir/subdir_03/textfile_07.txt\n",
      "datadir/subdir_03/textfile_05.txt\n",
      "datadir/subdir_03/textfile_04.txt\n",
      "datadir/subdir_03/textfile_10.txt\n",
      "datadir/subdir_03/datafile_01.csv\n",
      "datadir/subdir_03/datafile_03.csv\n",
      "datadir/subdir_03/datafile_02.csv\n",
      "datadir/subdir_03/datafile_06.csv\n",
      "datadir/subdir_03/datafile_07.csv\n",
      "datadir/subdir_03/datafile_05.csv\n",
      "datadir/subdir_03/datafile_10.csv\n",
      "datadir/subdir_03/datafile_04.csv\n",
      "datadir/subdir_03/datafile_09.csv\n",
      "datadir/subdir_03/datafile_08.csv\n",
      "datadir/subdir_03/textfile_09.txt\n",
      "datadir/subdir_03/textfile_08.txt\n",
      "datadir/subdir_02\n",
      "datadir/subdir_02/textfile_01.txt\n",
      "datadir/subdir_02/textfile_03.txt\n",
      "datadir/subdir_02/textfile_02.txt\n",
      "datadir/subdir_02/textfile_06.txt\n",
      "datadir/subdir_02/textfile_07.txt\n",
      "datadir/subdir_02/textfile_05.txt\n",
      "datadir/subdir_02/textfile_04.txt\n",
      "datadir/subdir_02/textfile_10.txt\n",
      "datadir/subdir_02/datafile_01.csv\n",
      "datadir/subdir_02/datafile_03.csv\n",
      "datadir/subdir_02/datafile_02.csv\n",
      "datadir/subdir_02/datafile_06.csv\n",
      "datadir/subdir_02/datafile_07.csv\n",
      "datadir/subdir_02/datafile_05.csv\n",
      "datadir/subdir_02/datafile_10.csv\n",
      "datadir/subdir_02/datafile_04.csv\n",
      "datadir/subdir_02/datafile_09.csv\n",
      "datadir/subdir_02/datafile_08.csv\n",
      "datadir/subdir_02/textfile_09.txt\n",
      "datadir/subdir_02/textfile_08.txt\n",
      "datadir/subdir_05\n",
      "datadir/subdir_05/textfile_01.txt\n",
      "datadir/subdir_05/textfile_03.txt\n",
      "datadir/subdir_05/textfile_02.txt\n",
      "datadir/subdir_05/textfile_06.txt\n",
      "datadir/subdir_05/textfile_07.txt\n",
      "datadir/subdir_05/textfile_05.txt\n",
      "datadir/subdir_05/textfile_04.txt\n",
      "datadir/subdir_05/textfile_10.txt\n",
      "datadir/subdir_05/datafile_01.csv\n",
      "datadir/subdir_05/datafile_03.csv\n",
      "datadir/subdir_05/datafile_02.csv\n",
      "datadir/subdir_05/datafile_06.csv\n",
      "datadir/subdir_05/datafile_07.csv\n",
      "datadir/subdir_05/datafile_05.csv\n",
      "datadir/subdir_05/datafile_10.csv\n",
      "datadir/subdir_05/datafile_04.csv\n",
      "datadir/subdir_05/datafile_09.csv\n",
      "datadir/subdir_05/datafile_08.csv\n",
      "datadir/subdir_05/textfile_09.txt\n",
      "datadir/subdir_05/textfile_08.txt\n"
     ]
    }
   ],
   "source": [
    "%%bash\n",
    "\n",
    "find datadir"
   ]
  },
  {
   "cell_type": "markdown",
   "metadata": {},
   "source": [
    "Find can look for specific types of files:"
   ]
  },
  {
   "cell_type": "code",
   "execution_count": 27,
   "metadata": {
    "vscode": {
     "languageId": "shellscript"
    }
   },
   "outputs": [
    {
     "name": "stdout",
     "output_type": "stream",
     "text": [
      "datadir\n",
      "datadir/subdir_07\n",
      "datadir/subdir_09\n",
      "datadir/subdir_08\n",
      "datadir/subdir_06\n",
      "datadir/subdir_01\n",
      "datadir/subdir_10\n",
      "datadir/subdir_04\n",
      "datadir/subdir_03\n",
      "datadir/subdir_02\n",
      "datadir/subdir_05\n"
     ]
    }
   ],
   "source": [
    "%%bash \n",
    "\n",
    "# find only directories\n",
    "find datadir -type d"
   ]
  },
  {
   "cell_type": "markdown",
   "metadata": {},
   "source": [
    "You can also use find to look for files with specific names; be sure to put any wildcards in quotes, otherwise they will be expanded within the current directory on some systems:"
   ]
  },
  {
   "cell_type": "code",
   "execution_count": 30,
   "metadata": {
    "vscode": {
     "languageId": "shellscript"
    }
   },
   "outputs": [
    {
     "name": "stdout",
     "output_type": "stream",
     "text": [
      "datadir/subdir_07/textfile_07.txt\n",
      "datadir/subdir_09/textfile_07.txt\n",
      "datadir/subdir_08/textfile_07.txt\n",
      "datadir/subdir_06/textfile_07.txt\n",
      "datadir/subdir_01/textfile_07.txt\n",
      "datadir/subdir_10/textfile_07.txt\n",
      "datadir/subdir_04/textfile_07.txt\n",
      "datadir/subdir_03/textfile_07.txt\n",
      "datadir/subdir_02/textfile_07.txt\n",
      "datadir/subdir_05/textfile_07.txt\n"
     ]
    }
   ],
   "source": [
    "%%bash\n",
    "find datadir -name \"*_07.txt\"\n"
   ]
  },
  {
   "cell_type": "markdown",
   "metadata": {},
   "source": [
    "We can also execute commands on the outputs of find, using the `-exec` flag:"
   ]
  },
  {
   "cell_type": "code",
   "execution_count": 33,
   "metadata": {
    "vscode": {
     "languageId": "shellscript"
    }
   },
   "outputs": [
    {
     "name": "stdout",
     "output_type": "stream",
     "text": [
      "       4     365    2798\n"
     ]
    }
   ],
   "source": [
    "%%bash\n",
    "\n",
    "# fails if the name isn't quoted\n",
    "find datadir -name *_07.txt -exec grep quibusdam {} \\; "
   ]
  },
  {
   "cell_type": "markdown",
   "metadata": {},
   "source": [
    "#### Using `xargs`\n",
    "\n",
    "A better way to do this is to pipe the outputs from `find` into `xargs` which takes input and uses each line as input to a command:"
   ]
  },
  {
   "cell_type": "code",
   "execution_count": 35,
   "metadata": {
    "vscode": {
     "languageId": "shellscript"
    }
   },
   "outputs": [
    {
     "name": "stdout",
     "output_type": "stream",
     "text": [
      "datadir/subdir_07/textfile_07.txt:Quis voluptates ducimus, inventore vitae deleniti ex labore hic, omnis aliquid libero deleniti neque pariatur quaerat cumque earum reprehenderit, laborum facilis officiis a quibusdam doloribus repudiandae sequi modi deserunt, omnis minima dolorem placeat dolores? Id odit praesentium ratione, ad eum quo quod consequatur, minima voluptate ipsa ipsam harum eum officiis nisi deleniti, rem ab minus aut aspernatur? Sed ipsa illo id ad tempore beatae maxime velit, dignissimos molestiae quo expedita harum at ad ipsa quibusdam maxime ducimus, natus quasi eveniet explicabo dolorem quae illo molestiae reiciendis blanditiis facere.\n",
      "datadir/subdir_01/textfile_07.txt:Rem animi repellat officia consectetur quibusdam aut dicta quas natus, quisquam temporibus veniam cupiditate voluptatum est, quisquam facilis ducimus laudantium necessitatibus numquam quaerat culpa optio dolorum sequi magni, illo officia harum, quas repellendus eos sed impedit qui atque. Porro ea saepe soluta sunt nesciunt deserunt consequuntur maxime tenetur, ipsum ad dignissimos possimus eos, deserunt quo sint quisquam cupiditate ut repellat aperiam nobis necessitatibus accusantium sit? Laborum blanditiis recusandae voluptates maiores sapiente voluptate vel atque non, veniam provident atque natus sunt consequatur eum rem possimus pariatur eveniet, asperiores blanditiis eius et cumque rerum itaque architecto, atque animi odit quod laboriosam?\n",
      "datadir/subdir_02/textfile_07.txt:Commodi repellendus dolores voluptate labore obcaecati placeat, ipsum nam facilis veritatis exercitationem debitis perspiciatis maiores recusandae aliquid dignissimos, tempore nihil blanditiis aspernatur explicabo perferendis iure inventore nulla est omnis voluptatem? Nisi facere repellendus vero exercitationem rem nemo, debitis impedit nemo repellendus? Beatae pariatur recusandae fuga blanditiis debitis autem aliquam explicabo aliquid nihil corrupti, accusantium rem hic error iusto vel nesciunt corporis aliquam nobis, recusandae expedita fugiat sapiente eveniet aspernatur non, perferendis excepturi dolorem temporibus sit qui quisquam aliquid veritatis molestias hic? Quidem reprehenderit animi repudiandae velit rerum, atque incidunt harum tempora quibusdam eius consequuntur accusantium natus sunt.\n",
      "datadir/subdir_05/textfile_07.txt:Officiis deserunt labore, iste accusantium minus odio quasi dolore illum quae, harum nulla tenetur, non repellat voluptate quidem soluta veniam esse error animi reprehenderit qui? Quae distinctio excepturi sequi, nemo eius eligendi laborum ab accusamus aliquam eaque veniam ea, iste illo ab possimus perferendis veritatis ex corrupti architecto aut ipsa deserunt? Eaque deleniti cumque, possimus sapiente assumenda debitis molestiae voluptas in aperiam aliquid vitae? Distinctio explicabo rerum facilis magnam earum atque repellat accusamus, atque culpa numquam quasi quibusdam voluptas eligendi obcaecati?\n"
     ]
    }
   ],
   "source": [
    "%%bash\n",
    "\n",
    "# fails if the name isn't quoted\n",
    "find datadir -name *_07.txt -print0 | xargs -0 grep quibusdam"
   ]
  },
  {
   "cell_type": "markdown",
   "metadata": {},
   "source": [
    "### Background jobs\n",
    "\n",
    "Start a job that will take some time:\n"
   ]
  },
  {
   "cell_type": "code",
   "execution_count": 41,
   "metadata": {
    "vscode": {
     "languageId": "shellscript"
    }
   },
   "outputs": [
    {
     "name": "stderr",
     "output_type": "stream",
     "text": [
      "bash: line 5: 95054 Killed: 9               python wait.py\n"
     ]
    }
   ],
   "source": [
    "%%bash \n",
    "\n",
    "echo \"\"\"import time\n",
    "time.sleep(1000)\"\"\" > wait.py\n",
    "\n",
    "python wait.py\n"
   ]
  },
  {
   "cell_type": "markdown",
   "metadata": {},
   "source": [
    "Then open a terminal and start the command by running:\n",
    "\n",
    "`python wait.py`\n",
    "\n",
    "Once it starts, hit Control-Z to suspend the job. you should see something like:\n",
    "\n",
    "```\n",
    "[1]  + 96178 suspended  python wait.py\n",
    "```\n",
    "\n",
    "See the job info using `ps aux | grep wait.py | grep -v grep` - you should see a line like this:\n",
    "\n",
    "```\n",
    "poldrack         96178   0.0  0.0 410299232   7984 s018  T     1:21PM   0:00.01 python wait.py\n",
    "```\n",
    "\n",
    "the second number (96178 in this case) is the process number.  \n",
    "\n",
    "You can put the job into the background by typing `bg`, which should show something like:\n",
    "\n",
    "```\n",
    "[1]  + 96178 continued  python wait.py\n",
    "```\n",
    "\n",
    "you can bring it back into the foreground using `fg`, and then put it back into the background again using Ctrl-Z and `bg`.\n",
    "\n",
    "You can kill the background job using:\n",
    "\n",
    "```\n",
    "kill 96178\n",
    "```\n",
    "\n",
    "after which you should see:\n",
    "\n",
    "```\n",
    "[1]  + 96178 terminated  python wait.py                                                                                                                       \n",
    "```\n",
    "\n",
    "Sometimes kill needs a bit more help in killing a job that has become a zombie - in those cases you can use `kill -9 <pid>` which means \"kill the job with all of your powers\"\n",
    "\n"
   ]
  },
  {
   "cell_type": "markdown",
   "metadata": {},
   "source": [
    "### `sed`\n",
    "\n",
    "`sed` is a *stream editor* which is useful for text replacement.  "
   ]
  },
  {
   "cell_type": "code",
   "execution_count": 9,
   "metadata": {
    "vscode": {
     "languageId": "shellscript"
    }
   },
   "outputs": [
    {
     "name": "stdout",
     "output_type": "stream",
     "text": [
      "a b\n",
      "c d\n"
     ]
    }
   ],
   "source": [
    "%%bash\n",
    "\n",
    "echo \"\"\"a b\n",
    "c d\"\"\" > test.txt\n",
    "\n",
    "cat test.txt"
   ]
  },
  {
   "cell_type": "code",
   "execution_count": 10,
   "metadata": {
    "vscode": {
     "languageId": "shellscript"
    }
   },
   "outputs": [
    {
     "name": "stdout",
     "output_type": "stream",
     "text": [
      "x b\n",
      "c d\n"
     ]
    }
   ],
   "source": [
    "%%bash\n",
    "\n",
    "## replace a with x\n",
    "\n",
    "cat test.txt | sed 's/a/x/' "
   ]
  },
  {
   "cell_type": "code",
   "execution_count": 12,
   "metadata": {
    "vscode": {
     "languageId": "shellscript"
    }
   },
   "outputs": [
    {
     "name": "stdout",
     "output_type": "stream",
     "text": [
      "bash convert.sh a b\n",
      "bash convert.sh c d\n"
     ]
    }
   ],
   "source": [
    "%%bash\n",
    "\n",
    "# add a command to the beginning of each line\n",
    "\n",
    "cat test.txt | sed 's/^/bash convert.sh /' "
   ]
  },
  {
   "cell_type": "code",
   "execution_count": 13,
   "metadata": {
    "vscode": {
     "languageId": "shellscript"
    }
   },
   "outputs": [
    {
     "name": "stdout",
     "output_type": "stream",
     "text": [
      "bash convert.sh a b -f\n",
      "bash convert.sh c d -f\n"
     ]
    }
   ],
   "source": [
    "%%bash\n",
    "\n",
    "# add a flag to the end of each line\n",
    "\n",
    "cat test.txt | sed 's/^/bash convert.sh /' | sed 's/$/ -f/'"
   ]
  },
  {
   "cell_type": "markdown",
   "metadata": {},
   "source": [
    "### Combining `sed` and `paste`\n",
    "\n",
    "It's common to want to generate shell scripts that operate on files, based on a file listing; this is particularly useful for launching jobs on the supercomputer. here is an example of how we can do this from the shell.  Let's say that we want to take all of the data files from our data directory and convert them from csv to tab delimited text files.  \n",
    "\n"
   ]
  },
  {
   "cell_type": "code",
   "execution_count": 2,
   "metadata": {
    "vscode": {
     "languageId": "shellscript"
    }
   },
   "outputs": [
    {
     "name": "stdout",
     "output_type": "stream",
     "text": [
      "python csv2tsv.py datadir/subdir_01/datafile_01.csv datadir/subdir_01/datafile_01.tsv\n",
      "python csv2tsv.py datadir/subdir_01/datafile_03.csv datadir/subdir_01/datafile_03.tsv\n",
      "python csv2tsv.py datadir/subdir_01/datafile_02.csv datadir/subdir_01/datafile_02.tsv\n",
      "python csv2tsv.py datadir/subdir_01/datafile_06.csv datadir/subdir_01/datafile_06.tsv\n",
      "python csv2tsv.py datadir/subdir_01/datafile_07.csv datadir/subdir_01/datafile_07.tsv\n",
      "python csv2tsv.py datadir/subdir_01/datafile_05.csv datadir/subdir_01/datafile_05.tsv\n",
      "python csv2tsv.py datadir/subdir_01/datafile_10.csv datadir/subdir_01/datafile_10.tsv\n",
      "python csv2tsv.py datadir/subdir_01/datafile_04.csv datadir/subdir_01/datafile_04.tsv\n",
      "python csv2tsv.py datadir/subdir_01/datafile_09.csv datadir/subdir_01/datafile_09.tsv\n",
      "python csv2tsv.py datadir/subdir_01/datafile_08.csv datadir/subdir_01/datafile_08.tsv\n",
      "running the conversion script\n",
      "converted datadir/subdir_01/datafile_01.csv to datadir/subdir_01/datafile_01.tsv\n",
      "converted datadir/subdir_01/datafile_03.csv to datadir/subdir_01/datafile_03.tsv\n",
      "converted datadir/subdir_01/datafile_02.csv to datadir/subdir_01/datafile_02.tsv\n",
      "converted datadir/subdir_01/datafile_06.csv to datadir/subdir_01/datafile_06.tsv\n",
      "converted datadir/subdir_01/datafile_07.csv to datadir/subdir_01/datafile_07.tsv\n",
      "converted datadir/subdir_01/datafile_05.csv to datadir/subdir_01/datafile_05.tsv\n",
      "converted datadir/subdir_01/datafile_10.csv to datadir/subdir_01/datafile_10.tsv\n",
      "converted datadir/subdir_01/datafile_04.csv to datadir/subdir_01/datafile_04.tsv\n",
      "converted datadir/subdir_01/datafile_09.csv to datadir/subdir_01/datafile_09.tsv\n",
      "converted datadir/subdir_01/datafile_08.csv to datadir/subdir_01/datafile_08.tsv\n"
     ]
    }
   ],
   "source": [
    "%%bash\n",
    "\n",
    "# first create a python script to do the conversion\n",
    "\n",
    "echo \"\"\"\n",
    "import sys\n",
    "import pandas as pd\n",
    "\n",
    "datafile = sys.argv[1]\n",
    "outfile = sys.argv[2]\n",
    "data = pd.read_csv(datafile)\n",
    "data.to_csv(outfile, sep='\\t', index=False)\n",
    "print(f'converted {datafile} to {outfile}')\n",
    "\"\"\" > csv2tsv.py\n",
    "\n",
    "\n",
    "find datadir/subdir_01 -name \"datafile*.csv\" > /tmp/datafiles\n",
    "cat /tmp/datafiles | sed 's/.csv/.tsv/' > /tmp/datafiles2\n",
    "paste -d \" \" /tmp/datafiles /tmp/datafiles2 | sed 's/^/python csv2tsv.py /'> convert_csv_to_tsv.sh \n",
    "cat convert_csv_to_tsv.sh \n",
    "\n",
    "echo \"running the conversion script\"\n",
    "bash convert_csv_to_tsv.sh \n"
   ]
  },
  {
   "cell_type": "markdown",
   "metadata": {},
   "source": []
  },
  {
   "cell_type": "markdown",
   "metadata": {},
   "source": [
    "#### Makefiles\n",
    "\n",
    "The UNIX `make` command provides a very useful way to organize commonly used commands, which are put into a file called a *Makefile*."
   ]
  },
  {
   "cell_type": "code",
   "execution_count": 14,
   "metadata": {
    "vscode": {
     "languageId": "shellscript"
    }
   },
   "outputs": [
    {
     "name": "stdout",
     "output_type": "stream",
     "text": [
      "echo \"Running step 1\"\n",
      "Running step 1\n",
      "echo \"Running step 2\"\n",
      "Running step 2\n",
      "echo \"Running step 3\"\n",
      "Running step 3\n"
     ]
    }
   ],
   "source": [
    "%%bash\n",
    "\n",
    "make all"
   ]
  },
  {
   "cell_type": "markdown",
   "metadata": {},
   "source": [
    "### Using tar\n",
    "\n"
   ]
  },
  {
   "cell_type": "markdown",
   "metadata": {},
   "source": []
  },
  {
   "cell_type": "code",
   "execution_count": null,
   "metadata": {
    "vscode": {
     "languageId": "shellscript"
    }
   },
   "outputs": [],
   "source": []
  }
 ],
 "metadata": {
  "kernelspec": {
   "display_name": "Python 3 (ipykernel)",
   "language": "python",
   "name": "python3"
  },
  "language_info": {
   "codemirror_mode": {
    "name": "ipython",
    "version": 3
   },
   "file_extension": ".py",
   "mimetype": "text/x-python",
   "name": "python",
   "nbconvert_exporter": "python",
   "pygments_lexer": "ipython3",
   "version": "3.12.2"
  }
 },
 "nbformat": 4,
 "nbformat_minor": 4
}
