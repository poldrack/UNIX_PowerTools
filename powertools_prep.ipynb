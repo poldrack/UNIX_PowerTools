{
 "cells": [
  {
   "cell_type": "markdown",
   "metadata": {},
   "source": []
  },
  {
   "cell_type": "code",
   "execution_count": 10,
   "metadata": {},
   "outputs": [],
   "source": [
    "import os\n",
    "import shutil\n",
    "from pathlib import Path\n",
    "from lorem_text import lorem\n",
    "import numpy as np"
   ]
  },
  {
   "cell_type": "markdown",
   "metadata": {},
   "source": [
    "Create a two-deep directory structure with two types of files (text and numpy)"
   ]
  },
  {
   "cell_type": "code",
   "execution_count": 14,
   "metadata": {},
   "outputs": [
    {
     "name": "stdout",
     "output_type": "stream",
     "text": [
      "datadir already exists, removing it\n"
     ]
    }
   ],
   "source": [
    "path = Path('datadir')\n",
    "if path.exists():\n",
    "    print('datadir already exists, removing it')\n",
    "    shutil.rmtree(path)\n",
    "path.mkdir()\n",
    "\n",
    "# make subdirs\n",
    "n_subdirs = 10\n",
    "for i in range(1, n_subdirs + 1):\n",
    "    subdir = path / f'subdir_{i:02}'\n",
    "    subdir.mkdir()\n",
    "\n",
    "# make files\n",
    "n_files = 10\n",
    "for i in range(1, n_files + 1):\n",
    "    for j in range(1, n_subdirs + 1):\n",
    "        filename = path / f'subdir_{j:02}/textfile_{i:02}.txt'\n",
    "        with open(filename, 'w') as f:\n",
    "            # generate some random text\n",
    "            text = lorem.paragraph()\n",
    "            f.write(text)\n",
    "        # create csv files from random numpy data\n",
    "        filename = path / f'subdir_{j:02}/datafile_{i:02}.csv'\n",
    "        data = np.random.rand(10, 2)\n",
    "        np.savetxt(filename, data, delimiter=',')\n"
   ]
  },
  {
   "cell_type": "code",
   "execution_count": null,
   "metadata": {},
   "outputs": [],
   "source": []
  }
 ],
 "metadata": {
  "kernelspec": {
   "display_name": "Python 3",
   "language": "python",
   "name": "python3"
  },
  "language_info": {
   "codemirror_mode": {
    "name": "ipython",
    "version": 3
   },
   "file_extension": ".py",
   "mimetype": "text/x-python",
   "name": "python",
   "nbconvert_exporter": "python",
   "pygments_lexer": "ipython3",
   "version": "3.12.2"
  }
 },
 "nbformat": 4,
 "nbformat_minor": 2
}
